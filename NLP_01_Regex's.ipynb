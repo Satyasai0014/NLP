{
 "cells": [
  {
   "cell_type": "code",
   "execution_count": 1,
   "id": "f37869a9",
   "metadata": {},
   "outputs": [
    {
     "name": "stdout",
     "output_type": "stream",
     "text": [
      "NOT FOUND...!\n"
     ]
    }
   ],
   "source": [
    "import re\n",
    "\n",
    "def result(m):\n",
    "    if m :\n",
    "        print(f'{m.string[0:m.span()[0]]}\\033[95m{m.string[m.span()[0]:m.span()[1]]}\\033[39m{m.string[m.span()[1]:]}')\n",
    "    else:\n",
    "        print(\"NOT FOUND...!\")\n",
    "        \n",
    "txt = \"Venkata Satya Sai Gopinadh\"\n",
    "\n",
    "x = re.search(\"sai\",txt)\n",
    "\n",
    "result(x)\n",
    "\n",
    "if x:\n",
    "    print(x.span())\n",
    "    print(x.string)\n",
    "    print(x.group())\n",
    "        "
   ]
  },
  {
   "cell_type": "code",
   "execution_count": 2,
   "id": "44fea037",
   "metadata": {},
   "outputs": [
    {
     "name": "stdout",
     "output_type": "stream",
     "text": [
      "Venkata Satya \u001b[95mSai\u001b[39m Gopinadh\n",
      "<re.Match object; span=(14, 17), match='Sai'>\n"
     ]
    }
   ],
   "source": [
    "# disjunction\n",
    "# It searches the alphabhets inside the disjunction : Its is like \"s\" or \"S\"\n",
    "x = re.search(\"[sS]ai\",txt)\n",
    "result(x)\n",
    "print(x)"
   ]
  },
  {
   "cell_type": "code",
   "execution_count": 3,
   "id": "3646bd12",
   "metadata": {},
   "outputs": [
    {
     "name": "stdout",
     "output_type": "stream",
     "text": [
      "Venkata Satya \u001b[95mSai\u001b[39m Gopinadh\n"
     ]
    }
   ],
   "source": [
    "#It searches all the Uppercase alphabhets from A-Z followed by \"ai\"\n",
    "x = re.search(\"[A-Z]ai\",txt)\n",
    "result(x)"
   ]
  },
  {
   "cell_type": "code",
   "execution_count": 4,
   "id": "b176776a",
   "metadata": {},
   "outputs": [
    {
     "name": "stdout",
     "output_type": "stream",
     "text": [
      "NOT FOUND...!\n"
     ]
    }
   ],
   "source": [
    "#It searches for the numbers from 0-9 followed by \"ai\"\n",
    "x = re.search(\"[0-9]ai\",txt)\n",
    "result(x)"
   ]
  },
  {
   "cell_type": "code",
   "execution_count": 5,
   "id": "b78227c0",
   "metadata": {},
   "outputs": [
    {
     "name": "stdout",
     "output_type": "stream",
     "text": [
      "NOT FOUND...!\n"
     ]
    }
   ],
   "source": [
    "#It searches all the Lowercase alphabhets from a-z followed by \"ai\"\n",
    "x = re.search(\"[a-z]ai\",txt) \n",
    "result(x)\n",
    "# It gives NOT FOUND because It is case-sensitive"
   ]
  },
  {
   "cell_type": "code",
   "execution_count": 6,
   "id": "e9dae9ff",
   "metadata": {},
   "outputs": [
    {
     "name": "stdout",
     "output_type": "stream",
     "text": [
      "Venkata Satya \u001b[95mSai\u001b[39m Gopinadh\n"
     ]
    }
   ],
   "source": [
    "\"\"\"It searches all the Uppercase alphabhets from A-Z or Lowercase\n",
    "a-c and followed by \"ai\" \"\"\"\n",
    "x= re.search(\"[A-Za-c]ai\",txt)\n",
    "result(x)"
   ]
  },
  {
   "cell_type": "code",
   "execution_count": 7,
   "id": "009ecdf2",
   "metadata": {},
   "outputs": [
    {
     "name": "stdout",
     "output_type": "stream",
     "text": [
      "Venkata Satya \u001b[95mSai\u001b[39m Gopinadh\n"
     ]
    }
   ],
   "source": [
    "\"\"\"It searches for the alphabets from Uppercase A to Lowercase z \n",
    "means all Uppercase and Lowercase alphabets.\"\"\"\n",
    "x= re.search(\"[A-z]ai\",txt)\n",
    "result(x)"
   ]
  },
  {
   "cell_type": "code",
   "execution_count": 8,
   "id": "e95caf20",
   "metadata": {},
   "outputs": [
    {
     "ename": "error",
     "evalue": "bad character range a-Z at position 1",
     "output_type": "error",
     "traceback": [
      "\u001b[1;31m---------------------------------------------------------------------------\u001b[0m",
      "\u001b[1;31merror\u001b[0m                                     Traceback (most recent call last)",
      "Cell \u001b[1;32mIn[8], line 3\u001b[0m\n\u001b[0;32m      1\u001b[0m \u001b[38;5;124;03m\"\"\"It searches for the alphabets from Lowercase z to  Uppercase A\u001b[39;00m\n\u001b[0;32m      2\u001b[0m \u001b[38;5;124;03mmeans all Uppercase and Lowercase alphabets.\"\"\"\u001b[39;00m\n\u001b[1;32m----> 3\u001b[0m x\u001b[38;5;241m=\u001b[39m \u001b[43mre\u001b[49m\u001b[38;5;241;43m.\u001b[39;49m\u001b[43msearch\u001b[49m\u001b[43m(\u001b[49m\u001b[38;5;124;43m\"\u001b[39;49m\u001b[38;5;124;43m[a-Z]ai\u001b[39;49m\u001b[38;5;124;43m\"\u001b[39;49m\u001b[43m,\u001b[49m\u001b[43mtxt\u001b[49m\u001b[43m)\u001b[49m\n\u001b[0;32m      4\u001b[0m result(x)\n\u001b[0;32m      6\u001b[0m \u001b[38;5;66;03m# this will give us an error because of the bad character range\u001b[39;00m\n",
      "File \u001b[1;32m~\\AppData\\Local\\Programs\\Python\\Python311\\Lib\\re\\__init__.py:176\u001b[0m, in \u001b[0;36msearch\u001b[1;34m(pattern, string, flags)\u001b[0m\n\u001b[0;32m    173\u001b[0m \u001b[38;5;28;01mdef\u001b[39;00m \u001b[38;5;21msearch\u001b[39m(pattern, string, flags\u001b[38;5;241m=\u001b[39m\u001b[38;5;241m0\u001b[39m):\n\u001b[0;32m    174\u001b[0m \u001b[38;5;250m    \u001b[39m\u001b[38;5;124;03m\"\"\"Scan through string looking for a match to the pattern, returning\u001b[39;00m\n\u001b[0;32m    175\u001b[0m \u001b[38;5;124;03m    a Match object, or None if no match was found.\"\"\"\u001b[39;00m\n\u001b[1;32m--> 176\u001b[0m     \u001b[38;5;28;01mreturn\u001b[39;00m \u001b[43m_compile\u001b[49m\u001b[43m(\u001b[49m\u001b[43mpattern\u001b[49m\u001b[43m,\u001b[49m\u001b[43m \u001b[49m\u001b[43mflags\u001b[49m\u001b[43m)\u001b[49m\u001b[38;5;241m.\u001b[39msearch(string)\n",
      "File \u001b[1;32m~\\AppData\\Local\\Programs\\Python\\Python311\\Lib\\re\\__init__.py:294\u001b[0m, in \u001b[0;36m_compile\u001b[1;34m(pattern, flags)\u001b[0m\n\u001b[0;32m    288\u001b[0m     \u001b[38;5;28;01mimport\u001b[39;00m \u001b[38;5;21;01mwarnings\u001b[39;00m\n\u001b[0;32m    289\u001b[0m     warnings\u001b[38;5;241m.\u001b[39mwarn(\u001b[38;5;124m\"\u001b[39m\u001b[38;5;124mThe re.TEMPLATE/re.T flag is deprecated \u001b[39m\u001b[38;5;124m\"\u001b[39m\n\u001b[0;32m    290\u001b[0m               \u001b[38;5;124m\"\u001b[39m\u001b[38;5;124mas it is an undocumented flag \u001b[39m\u001b[38;5;124m\"\u001b[39m\n\u001b[0;32m    291\u001b[0m               \u001b[38;5;124m\"\u001b[39m\u001b[38;5;124mwithout an obvious purpose. \u001b[39m\u001b[38;5;124m\"\u001b[39m\n\u001b[0;32m    292\u001b[0m               \u001b[38;5;124m\"\u001b[39m\u001b[38;5;124mDon\u001b[39m\u001b[38;5;124m'\u001b[39m\u001b[38;5;124mt use it.\u001b[39m\u001b[38;5;124m\"\u001b[39m,\n\u001b[0;32m    293\u001b[0m               \u001b[38;5;167;01mDeprecationWarning\u001b[39;00m)\n\u001b[1;32m--> 294\u001b[0m p \u001b[38;5;241m=\u001b[39m \u001b[43m_compiler\u001b[49m\u001b[38;5;241;43m.\u001b[39;49m\u001b[43mcompile\u001b[49m\u001b[43m(\u001b[49m\u001b[43mpattern\u001b[49m\u001b[43m,\u001b[49m\u001b[43m \u001b[49m\u001b[43mflags\u001b[49m\u001b[43m)\u001b[49m\n\u001b[0;32m    295\u001b[0m \u001b[38;5;28;01mif\u001b[39;00m \u001b[38;5;129;01mnot\u001b[39;00m (flags \u001b[38;5;241m&\u001b[39m DEBUG):\n\u001b[0;32m    296\u001b[0m     \u001b[38;5;28;01mif\u001b[39;00m \u001b[38;5;28mlen\u001b[39m(_cache) \u001b[38;5;241m>\u001b[39m\u001b[38;5;241m=\u001b[39m _MAXCACHE:\n\u001b[0;32m    297\u001b[0m         \u001b[38;5;66;03m# Drop the oldest item\u001b[39;00m\n",
      "File \u001b[1;32m~\\AppData\\Local\\Programs\\Python\\Python311\\Lib\\re\\_compiler.py:743\u001b[0m, in \u001b[0;36mcompile\u001b[1;34m(p, flags)\u001b[0m\n\u001b[0;32m    741\u001b[0m \u001b[38;5;28;01mif\u001b[39;00m isstring(p):\n\u001b[0;32m    742\u001b[0m     pattern \u001b[38;5;241m=\u001b[39m p\n\u001b[1;32m--> 743\u001b[0m     p \u001b[38;5;241m=\u001b[39m \u001b[43m_parser\u001b[49m\u001b[38;5;241;43m.\u001b[39;49m\u001b[43mparse\u001b[49m\u001b[43m(\u001b[49m\u001b[43mp\u001b[49m\u001b[43m,\u001b[49m\u001b[43m \u001b[49m\u001b[43mflags\u001b[49m\u001b[43m)\u001b[49m\n\u001b[0;32m    744\u001b[0m \u001b[38;5;28;01melse\u001b[39;00m:\n\u001b[0;32m    745\u001b[0m     pattern \u001b[38;5;241m=\u001b[39m \u001b[38;5;28;01mNone\u001b[39;00m\n",
      "File \u001b[1;32m~\\AppData\\Local\\Programs\\Python\\Python311\\Lib\\re\\_parser.py:980\u001b[0m, in \u001b[0;36mparse\u001b[1;34m(str, flags, state)\u001b[0m\n\u001b[0;32m    977\u001b[0m state\u001b[38;5;241m.\u001b[39mflags \u001b[38;5;241m=\u001b[39m flags\n\u001b[0;32m    978\u001b[0m state\u001b[38;5;241m.\u001b[39mstr \u001b[38;5;241m=\u001b[39m \u001b[38;5;28mstr\u001b[39m\n\u001b[1;32m--> 980\u001b[0m p \u001b[38;5;241m=\u001b[39m \u001b[43m_parse_sub\u001b[49m\u001b[43m(\u001b[49m\u001b[43msource\u001b[49m\u001b[43m,\u001b[49m\u001b[43m \u001b[49m\u001b[43mstate\u001b[49m\u001b[43m,\u001b[49m\u001b[43m \u001b[49m\u001b[43mflags\u001b[49m\u001b[43m \u001b[49m\u001b[38;5;241;43m&\u001b[39;49m\u001b[43m \u001b[49m\u001b[43mSRE_FLAG_VERBOSE\u001b[49m\u001b[43m,\u001b[49m\u001b[43m \u001b[49m\u001b[38;5;241;43m0\u001b[39;49m\u001b[43m)\u001b[49m\n\u001b[0;32m    981\u001b[0m p\u001b[38;5;241m.\u001b[39mstate\u001b[38;5;241m.\u001b[39mflags \u001b[38;5;241m=\u001b[39m fix_flags(\u001b[38;5;28mstr\u001b[39m, p\u001b[38;5;241m.\u001b[39mstate\u001b[38;5;241m.\u001b[39mflags)\n\u001b[0;32m    983\u001b[0m \u001b[38;5;28;01mif\u001b[39;00m source\u001b[38;5;241m.\u001b[39mnext \u001b[38;5;129;01mis\u001b[39;00m \u001b[38;5;129;01mnot\u001b[39;00m \u001b[38;5;28;01mNone\u001b[39;00m:\n",
      "File \u001b[1;32m~\\AppData\\Local\\Programs\\Python\\Python311\\Lib\\re\\_parser.py:455\u001b[0m, in \u001b[0;36m_parse_sub\u001b[1;34m(source, state, verbose, nested)\u001b[0m\n\u001b[0;32m    453\u001b[0m start \u001b[38;5;241m=\u001b[39m source\u001b[38;5;241m.\u001b[39mtell()\n\u001b[0;32m    454\u001b[0m \u001b[38;5;28;01mwhile\u001b[39;00m \u001b[38;5;28;01mTrue\u001b[39;00m:\n\u001b[1;32m--> 455\u001b[0m     itemsappend(\u001b[43m_parse\u001b[49m\u001b[43m(\u001b[49m\u001b[43msource\u001b[49m\u001b[43m,\u001b[49m\u001b[43m \u001b[49m\u001b[43mstate\u001b[49m\u001b[43m,\u001b[49m\u001b[43m \u001b[49m\u001b[43mverbose\u001b[49m\u001b[43m,\u001b[49m\u001b[43m \u001b[49m\u001b[43mnested\u001b[49m\u001b[43m \u001b[49m\u001b[38;5;241;43m+\u001b[39;49m\u001b[43m \u001b[49m\u001b[38;5;241;43m1\u001b[39;49m\u001b[43m,\u001b[49m\n\u001b[0;32m    456\u001b[0m \u001b[43m                       \u001b[49m\u001b[38;5;129;43;01mnot\u001b[39;49;00m\u001b[43m \u001b[49m\u001b[43mnested\u001b[49m\u001b[43m \u001b[49m\u001b[38;5;129;43;01mand\u001b[39;49;00m\u001b[43m \u001b[49m\u001b[38;5;129;43;01mnot\u001b[39;49;00m\u001b[43m \u001b[49m\u001b[43mitems\u001b[49m\u001b[43m)\u001b[49m)\n\u001b[0;32m    457\u001b[0m     \u001b[38;5;28;01mif\u001b[39;00m \u001b[38;5;129;01mnot\u001b[39;00m sourcematch(\u001b[38;5;124m\"\u001b[39m\u001b[38;5;124m|\u001b[39m\u001b[38;5;124m\"\u001b[39m):\n\u001b[0;32m    458\u001b[0m         \u001b[38;5;28;01mbreak\u001b[39;00m\n",
      "File \u001b[1;32m~\\AppData\\Local\\Programs\\Python\\Python311\\Lib\\re\\_parser.py:612\u001b[0m, in \u001b[0;36m_parse\u001b[1;34m(source, state, verbose, nested, first)\u001b[0m\n\u001b[0;32m    610\u001b[0m     \u001b[38;5;28;01mif\u001b[39;00m hi \u001b[38;5;241m<\u001b[39m lo:\n\u001b[0;32m    611\u001b[0m         msg \u001b[38;5;241m=\u001b[39m \u001b[38;5;124m\"\u001b[39m\u001b[38;5;124mbad character range \u001b[39m\u001b[38;5;132;01m%s\u001b[39;00m\u001b[38;5;124m-\u001b[39m\u001b[38;5;132;01m%s\u001b[39;00m\u001b[38;5;124m\"\u001b[39m \u001b[38;5;241m%\u001b[39m (this, that)\n\u001b[1;32m--> 612\u001b[0m         \u001b[38;5;28;01mraise\u001b[39;00m source\u001b[38;5;241m.\u001b[39merror(msg, \u001b[38;5;28mlen\u001b[39m(this) \u001b[38;5;241m+\u001b[39m \u001b[38;5;241m1\u001b[39m \u001b[38;5;241m+\u001b[39m \u001b[38;5;28mlen\u001b[39m(that))\n\u001b[0;32m    613\u001b[0m     setappend((RANGE, (lo, hi)))\n\u001b[0;32m    614\u001b[0m \u001b[38;5;28;01melse\u001b[39;00m:\n",
      "\u001b[1;31merror\u001b[0m: bad character range a-Z at position 1"
     ]
    }
   ],
   "source": [
    "\"\"\"It searches for the alphabets from Lowercase z to  Uppercase A\n",
    "means all Uppercase and Lowercase alphabets.\"\"\"\n",
    "x= re.search(\"[a-Z]ai\",txt)\n",
    "result(x)\n",
    "\n",
    "# this will give us an error because of the bad character range"
   ]
  },
  {
   "cell_type": "markdown",
   "id": "a8f8a2bf",
   "metadata": {},
   "source": [
    "### Regex -->\"^\" :\n",
    "* If it is in the starting position of the Regular Expression  means *'not'*.\n",
    "* If it is in the disjunction not in the starting pos then it is a character."
   ]
  },
  {
   "cell_type": "code",
   "execution_count": 9,
   "id": "ddf2a290",
   "metadata": {},
   "outputs": [
    {
     "name": "stdout",
     "output_type": "stream",
     "text": [
      "Venkata Satya \u001b[95msai\u001b[39m Gopinadh\n"
     ]
    }
   ],
   "source": [
    "\"\"\"This searches for a string has 's' or '^' or 'S' that is followed by 'ai' \"\"\"\n",
    "txt = \"Venkata Satya sai Gopinadh\"\n",
    "x = re.search(\"[s^S]ai\",txt)\n",
    "result(x)"
   ]
  },
  {
   "cell_type": "code",
   "execution_count": 10,
   "id": "13377508",
   "metadata": {},
   "outputs": [
    {
     "name": "stdout",
     "output_type": "stream",
     "text": [
      "NOT FOUND...!\n"
     ]
    }
   ],
   "source": [
    "\"\"\"This searches for the string that is not started with 's'\n",
    "The symbol carat '^' if it is in the starting position of \n",
    "disjunction it means not starts with \"\"\"\n",
    "x = re.search(\"[^s]ai\",txt)\n",
    "result(x)\n",
    "# Since the txt is having 's'ai so it is not giving the output ."
   ]
  },
  {
   "cell_type": "code",
   "execution_count": 11,
   "id": "654fc9dd",
   "metadata": {},
   "outputs": [
    {
     "name": "stdout",
     "output_type": "stream",
     "text": [
      "Venkata Satya \u001b[95msai\u001b[39m Gopinadh\n"
     ]
    }
   ],
   "source": [
    "\"\"\"This searches for the string not starting with an numeric and \n",
    "followed by 'ai'.The symbol carat '^' if it is in the starting position of \n",
    "disjunction it means not starts with \"\"\"\n",
    "x= re.search(\"[^0-9]ai\",txt)\n",
    "result(x)"
   ]
  },
  {
   "cell_type": "code",
   "execution_count": 12,
   "id": "87f017af",
   "metadata": {},
   "outputs": [
    {
     "name": "stdout",
     "output_type": "stream",
     "text": [
      "NOT FOUND...!\n"
     ]
    }
   ],
   "source": [
    "\"\"\"This searches for the string that is not started with 's' to 'z'\n",
    "The symbol carat '^' if it is in the starting position of \n",
    "disjunction it means not starts with \"\"\"\n",
    "x= re.search(\"[^s-z]ai\",txt)\n",
    "result(x)"
   ]
  },
  {
   "cell_type": "code",
   "execution_count": 13,
   "id": "e0b1c998",
   "metadata": {},
   "outputs": [
    {
     "name": "stdout",
     "output_type": "stream",
     "text": [
      "Venkata Satya \u001b[95msai\u001b[39m Gopinadh\n"
     ]
    }
   ],
   "source": [
    "\"\"\"This searches for the string that is not started with '.'\n",
    "The symbol carat '^' if it is in the starting position of \n",
    "disjunction it means not starts with \"\"\"\n",
    "x= re.search(\"[^.]ai\",txt)\n",
    "result(x)"
   ]
  },
  {
   "cell_type": "code",
   "execution_count": 14,
   "id": "411fa1ba",
   "metadata": {},
   "outputs": [
    {
     "name": "stdout",
     "output_type": "stream",
     "text": [
      "NOT FOUND...!\n"
     ]
    }
   ],
   "source": [
    "\"\"\"This searches for a string has 'n' or '^' that is followed by 'adh' \"\"\"\n",
    "txt = \"Venkata Satya Sai Gopi Nadh\"\n",
    "x = re.search(\"[n^]adh\",txt)\n",
    "result(x)"
   ]
  },
  {
   "cell_type": "code",
   "execution_count": 15,
   "id": "033dca1a",
   "metadata": {},
   "outputs": [
    {
     "name": "stdout",
     "output_type": "stream",
     "text": [
      "Venkata Satya Sai Gopi \u001b[95mNadh\u001b[39m\n"
     ]
    }
   ],
   "source": [
    "\"\"\"This searches for a string has 'N' or '^' that is followed by 'adh' \"\"\"\n",
    "txt = \"Venkata Satya Sai Gopi Nadh\"\n",
    "x = re.search(\"[N^]adh\",txt)\n",
    "result(x)"
   ]
  },
  {
   "cell_type": "code",
   "execution_count": 16,
   "id": "c6da27bd",
   "metadata": {},
   "outputs": [
    {
     "name": "stdout",
     "output_type": "stream",
     "text": [
      "Venkata Satya \u001b[95mSai\u001b[39m Gopinadh\n"
     ]
    }
   ],
   "source": [
    "\"\"\"This searches for a string has 'S' or '^' or 'a' that is followed by 'ai' \"\"\"\n",
    "txt = \"Venkata Satya Sai Gopinadh\"\n",
    "x= re.search(\"[S^a]ai\",txt)\n",
    "result(x)"
   ]
  },
  {
   "cell_type": "code",
   "execution_count": 17,
   "id": "432ab210",
   "metadata": {},
   "outputs": [
    {
     "name": "stdout",
     "output_type": "stream",
     "text": [
      "\u001b[95mSai\u001b[39m Venkata Satya Sai Gopinadh\n"
     ]
    }
   ],
   "source": [
    "\"\"\"This searches for senctence that starts with 'Sai'\"\"\"\n",
    "txt = \"Sai Venkata Satya Sai Gopinadh\"\n",
    "x= re.search(\"^Sai\",txt)\n",
    "result(x)\n",
    "#Observation: disjunction is not there."
   ]
  },
  {
   "cell_type": "markdown",
   "id": "f9a8f57b",
   "metadata": {},
   "source": [
    "### Regex --> \" ? \" :\n",
    "* This means if the regular expression is having '?' then the previous expression is optional.\n",
    "* zero or one occurrence of the previous char or expression."
   ]
  },
  {
   "cell_type": "code",
   "execution_count": 18,
   "id": "1e5f1752",
   "metadata": {},
   "outputs": [
    {
     "name": "stdout",
     "output_type": "stream",
     "text": [
      "Venkata \u001b[95mSa\u001b[39mtya Sai Gopinadh\n"
     ]
    }
   ],
   "source": [
    "\"\"\"This searches for 'Sai' and the '?' is in \n",
    "the last pos means the last char or expression is optional'\"\"\"\n",
    "txt = \"Venkata Satya Sai Gopinadh\"\n",
    "x = re.search(\"Sai?\",txt)\n",
    "result(x)\n",
    "# In this txt we have two possibilities : 1).In ''Sa'tya' and ''Sai'' . \n",
    "#It takes the first occurance."
   ]
  },
  {
   "cell_type": "code",
   "execution_count": 19,
   "id": "9f2948b1",
   "metadata": {},
   "outputs": [
    {
     "name": "stdout",
     "output_type": "stream",
     "text": [
      "Venkata \u001b[95mSa\u001b[39mtya Sai Gopinadh\n"
     ]
    }
   ],
   "source": [
    "\"\"\"This searches for 'Sa' and the '?' is in \n",
    "the previous char or expression ('a' in this txt)is optional'\"\"\"\n",
    "txt = \"Venkata Satya Sai Gopinadh\"\n",
    "x = re.search(\"Sa?\",txt)\n",
    "result(x)\n",
    "# In this txt we have two possibilities : 1).In ''Sa'tya' and ''Sa'i' . \n",
    "#It takes the first occurance."
   ]
  },
  {
   "cell_type": "code",
   "execution_count": 20,
   "id": "ab87eec7",
   "metadata": {},
   "outputs": [
    {
     "name": "stdout",
     "output_type": "stream",
     "text": [
      "Venkata Satya Si Gopinadh\n",
      "Venkata Satya \u001b[95mSi\u001b[39m Gopinadh\n"
     ]
    }
   ],
   "source": [
    "\"\"\"This searches for 'S?i' means S is optional but should be followed by 'i' \n",
    "the previous char or expression ('S' in this txt)is optional'\"\"\"\n",
    "txt = \"Venkata Satya Si Gopinadh\"\n",
    "print(txt)\n",
    "x = re.search(\"S?i\",txt)\n",
    "result(x)\n",
    "# In this txt we have two possibilities : 1).In ''Sa'tya' and ''Sa'i' . \n",
    "#It takes the first occurance."
   ]
  },
  {
   "cell_type": "code",
   "execution_count": 21,
   "id": "474d401f",
   "metadata": {},
   "outputs": [
    {
     "ename": "error",
     "evalue": "nothing to repeat at position 0",
     "output_type": "error",
     "traceback": [
      "\u001b[1;31m---------------------------------------------------------------------------\u001b[0m",
      "\u001b[1;31merror\u001b[0m                                     Traceback (most recent call last)",
      "Cell \u001b[1;32mIn[21], line 2\u001b[0m\n\u001b[0;32m      1\u001b[0m \u001b[38;5;124;03m\"\"\"This gives an error because there is nothin the position before '?'.\"\"\"\u001b[39;00m\n\u001b[1;32m----> 2\u001b[0m x \u001b[38;5;241m=\u001b[39m \u001b[43mre\u001b[49m\u001b[38;5;241;43m.\u001b[39;49m\u001b[43msearch\u001b[49m\u001b[43m(\u001b[49m\u001b[38;5;124;43m\"\u001b[39;49m\u001b[38;5;124;43m?\u001b[39;49m\u001b[38;5;124;43m\"\u001b[39;49m\u001b[43m,\u001b[49m\u001b[43mtxt\u001b[49m\u001b[43m)\u001b[49m\n\u001b[0;32m      3\u001b[0m result(x)\n",
      "File \u001b[1;32m~\\AppData\\Local\\Programs\\Python\\Python311\\Lib\\re\\__init__.py:176\u001b[0m, in \u001b[0;36msearch\u001b[1;34m(pattern, string, flags)\u001b[0m\n\u001b[0;32m    173\u001b[0m \u001b[38;5;28;01mdef\u001b[39;00m \u001b[38;5;21msearch\u001b[39m(pattern, string, flags\u001b[38;5;241m=\u001b[39m\u001b[38;5;241m0\u001b[39m):\n\u001b[0;32m    174\u001b[0m \u001b[38;5;250m    \u001b[39m\u001b[38;5;124;03m\"\"\"Scan through string looking for a match to the pattern, returning\u001b[39;00m\n\u001b[0;32m    175\u001b[0m \u001b[38;5;124;03m    a Match object, or None if no match was found.\"\"\"\u001b[39;00m\n\u001b[1;32m--> 176\u001b[0m     \u001b[38;5;28;01mreturn\u001b[39;00m \u001b[43m_compile\u001b[49m\u001b[43m(\u001b[49m\u001b[43mpattern\u001b[49m\u001b[43m,\u001b[49m\u001b[43m \u001b[49m\u001b[43mflags\u001b[49m\u001b[43m)\u001b[49m\u001b[38;5;241m.\u001b[39msearch(string)\n",
      "File \u001b[1;32m~\\AppData\\Local\\Programs\\Python\\Python311\\Lib\\re\\__init__.py:294\u001b[0m, in \u001b[0;36m_compile\u001b[1;34m(pattern, flags)\u001b[0m\n\u001b[0;32m    288\u001b[0m     \u001b[38;5;28;01mimport\u001b[39;00m \u001b[38;5;21;01mwarnings\u001b[39;00m\n\u001b[0;32m    289\u001b[0m     warnings\u001b[38;5;241m.\u001b[39mwarn(\u001b[38;5;124m\"\u001b[39m\u001b[38;5;124mThe re.TEMPLATE/re.T flag is deprecated \u001b[39m\u001b[38;5;124m\"\u001b[39m\n\u001b[0;32m    290\u001b[0m               \u001b[38;5;124m\"\u001b[39m\u001b[38;5;124mas it is an undocumented flag \u001b[39m\u001b[38;5;124m\"\u001b[39m\n\u001b[0;32m    291\u001b[0m               \u001b[38;5;124m\"\u001b[39m\u001b[38;5;124mwithout an obvious purpose. \u001b[39m\u001b[38;5;124m\"\u001b[39m\n\u001b[0;32m    292\u001b[0m               \u001b[38;5;124m\"\u001b[39m\u001b[38;5;124mDon\u001b[39m\u001b[38;5;124m'\u001b[39m\u001b[38;5;124mt use it.\u001b[39m\u001b[38;5;124m\"\u001b[39m,\n\u001b[0;32m    293\u001b[0m               \u001b[38;5;167;01mDeprecationWarning\u001b[39;00m)\n\u001b[1;32m--> 294\u001b[0m p \u001b[38;5;241m=\u001b[39m \u001b[43m_compiler\u001b[49m\u001b[38;5;241;43m.\u001b[39;49m\u001b[43mcompile\u001b[49m\u001b[43m(\u001b[49m\u001b[43mpattern\u001b[49m\u001b[43m,\u001b[49m\u001b[43m \u001b[49m\u001b[43mflags\u001b[49m\u001b[43m)\u001b[49m\n\u001b[0;32m    295\u001b[0m \u001b[38;5;28;01mif\u001b[39;00m \u001b[38;5;129;01mnot\u001b[39;00m (flags \u001b[38;5;241m&\u001b[39m DEBUG):\n\u001b[0;32m    296\u001b[0m     \u001b[38;5;28;01mif\u001b[39;00m \u001b[38;5;28mlen\u001b[39m(_cache) \u001b[38;5;241m>\u001b[39m\u001b[38;5;241m=\u001b[39m _MAXCACHE:\n\u001b[0;32m    297\u001b[0m         \u001b[38;5;66;03m# Drop the oldest item\u001b[39;00m\n",
      "File \u001b[1;32m~\\AppData\\Local\\Programs\\Python\\Python311\\Lib\\re\\_compiler.py:743\u001b[0m, in \u001b[0;36mcompile\u001b[1;34m(p, flags)\u001b[0m\n\u001b[0;32m    741\u001b[0m \u001b[38;5;28;01mif\u001b[39;00m isstring(p):\n\u001b[0;32m    742\u001b[0m     pattern \u001b[38;5;241m=\u001b[39m p\n\u001b[1;32m--> 743\u001b[0m     p \u001b[38;5;241m=\u001b[39m \u001b[43m_parser\u001b[49m\u001b[38;5;241;43m.\u001b[39;49m\u001b[43mparse\u001b[49m\u001b[43m(\u001b[49m\u001b[43mp\u001b[49m\u001b[43m,\u001b[49m\u001b[43m \u001b[49m\u001b[43mflags\u001b[49m\u001b[43m)\u001b[49m\n\u001b[0;32m    744\u001b[0m \u001b[38;5;28;01melse\u001b[39;00m:\n\u001b[0;32m    745\u001b[0m     pattern \u001b[38;5;241m=\u001b[39m \u001b[38;5;28;01mNone\u001b[39;00m\n",
      "File \u001b[1;32m~\\AppData\\Local\\Programs\\Python\\Python311\\Lib\\re\\_parser.py:980\u001b[0m, in \u001b[0;36mparse\u001b[1;34m(str, flags, state)\u001b[0m\n\u001b[0;32m    977\u001b[0m state\u001b[38;5;241m.\u001b[39mflags \u001b[38;5;241m=\u001b[39m flags\n\u001b[0;32m    978\u001b[0m state\u001b[38;5;241m.\u001b[39mstr \u001b[38;5;241m=\u001b[39m \u001b[38;5;28mstr\u001b[39m\n\u001b[1;32m--> 980\u001b[0m p \u001b[38;5;241m=\u001b[39m \u001b[43m_parse_sub\u001b[49m\u001b[43m(\u001b[49m\u001b[43msource\u001b[49m\u001b[43m,\u001b[49m\u001b[43m \u001b[49m\u001b[43mstate\u001b[49m\u001b[43m,\u001b[49m\u001b[43m \u001b[49m\u001b[43mflags\u001b[49m\u001b[43m \u001b[49m\u001b[38;5;241;43m&\u001b[39;49m\u001b[43m \u001b[49m\u001b[43mSRE_FLAG_VERBOSE\u001b[49m\u001b[43m,\u001b[49m\u001b[43m \u001b[49m\u001b[38;5;241;43m0\u001b[39;49m\u001b[43m)\u001b[49m\n\u001b[0;32m    981\u001b[0m p\u001b[38;5;241m.\u001b[39mstate\u001b[38;5;241m.\u001b[39mflags \u001b[38;5;241m=\u001b[39m fix_flags(\u001b[38;5;28mstr\u001b[39m, p\u001b[38;5;241m.\u001b[39mstate\u001b[38;5;241m.\u001b[39mflags)\n\u001b[0;32m    983\u001b[0m \u001b[38;5;28;01mif\u001b[39;00m source\u001b[38;5;241m.\u001b[39mnext \u001b[38;5;129;01mis\u001b[39;00m \u001b[38;5;129;01mnot\u001b[39;00m \u001b[38;5;28;01mNone\u001b[39;00m:\n",
      "File \u001b[1;32m~\\AppData\\Local\\Programs\\Python\\Python311\\Lib\\re\\_parser.py:455\u001b[0m, in \u001b[0;36m_parse_sub\u001b[1;34m(source, state, verbose, nested)\u001b[0m\n\u001b[0;32m    453\u001b[0m start \u001b[38;5;241m=\u001b[39m source\u001b[38;5;241m.\u001b[39mtell()\n\u001b[0;32m    454\u001b[0m \u001b[38;5;28;01mwhile\u001b[39;00m \u001b[38;5;28;01mTrue\u001b[39;00m:\n\u001b[1;32m--> 455\u001b[0m     itemsappend(\u001b[43m_parse\u001b[49m\u001b[43m(\u001b[49m\u001b[43msource\u001b[49m\u001b[43m,\u001b[49m\u001b[43m \u001b[49m\u001b[43mstate\u001b[49m\u001b[43m,\u001b[49m\u001b[43m \u001b[49m\u001b[43mverbose\u001b[49m\u001b[43m,\u001b[49m\u001b[43m \u001b[49m\u001b[43mnested\u001b[49m\u001b[43m \u001b[49m\u001b[38;5;241;43m+\u001b[39;49m\u001b[43m \u001b[49m\u001b[38;5;241;43m1\u001b[39;49m\u001b[43m,\u001b[49m\n\u001b[0;32m    456\u001b[0m \u001b[43m                       \u001b[49m\u001b[38;5;129;43;01mnot\u001b[39;49;00m\u001b[43m \u001b[49m\u001b[43mnested\u001b[49m\u001b[43m \u001b[49m\u001b[38;5;129;43;01mand\u001b[39;49;00m\u001b[43m \u001b[49m\u001b[38;5;129;43;01mnot\u001b[39;49;00m\u001b[43m \u001b[49m\u001b[43mitems\u001b[49m\u001b[43m)\u001b[49m)\n\u001b[0;32m    457\u001b[0m     \u001b[38;5;28;01mif\u001b[39;00m \u001b[38;5;129;01mnot\u001b[39;00m sourcematch(\u001b[38;5;124m\"\u001b[39m\u001b[38;5;124m|\u001b[39m\u001b[38;5;124m\"\u001b[39m):\n\u001b[0;32m    458\u001b[0m         \u001b[38;5;28;01mbreak\u001b[39;00m\n",
      "File \u001b[1;32m~\\AppData\\Local\\Programs\\Python\\Python311\\Lib\\re\\_parser.py:682\u001b[0m, in \u001b[0;36m_parse\u001b[1;34m(source, state, verbose, nested, first)\u001b[0m\n\u001b[0;32m    680\u001b[0m     item \u001b[38;5;241m=\u001b[39m \u001b[38;5;28;01mNone\u001b[39;00m\n\u001b[0;32m    681\u001b[0m \u001b[38;5;28;01mif\u001b[39;00m \u001b[38;5;129;01mnot\u001b[39;00m item \u001b[38;5;129;01mor\u001b[39;00m item[\u001b[38;5;241m0\u001b[39m][\u001b[38;5;241m0\u001b[39m] \u001b[38;5;129;01mis\u001b[39;00m AT:\n\u001b[1;32m--> 682\u001b[0m     \u001b[38;5;28;01mraise\u001b[39;00m source\u001b[38;5;241m.\u001b[39merror(\u001b[38;5;124m\"\u001b[39m\u001b[38;5;124mnothing to repeat\u001b[39m\u001b[38;5;124m\"\u001b[39m,\n\u001b[0;32m    683\u001b[0m                        source\u001b[38;5;241m.\u001b[39mtell() \u001b[38;5;241m-\u001b[39m here \u001b[38;5;241m+\u001b[39m \u001b[38;5;28mlen\u001b[39m(this))\n\u001b[0;32m    684\u001b[0m \u001b[38;5;28;01mif\u001b[39;00m item[\u001b[38;5;241m0\u001b[39m][\u001b[38;5;241m0\u001b[39m] \u001b[38;5;129;01min\u001b[39;00m _REPEATCODES:\n\u001b[0;32m    685\u001b[0m     \u001b[38;5;28;01mraise\u001b[39;00m source\u001b[38;5;241m.\u001b[39merror(\u001b[38;5;124m\"\u001b[39m\u001b[38;5;124mmultiple repeat\u001b[39m\u001b[38;5;124m\"\u001b[39m,\n\u001b[0;32m    686\u001b[0m                        source\u001b[38;5;241m.\u001b[39mtell() \u001b[38;5;241m-\u001b[39m here \u001b[38;5;241m+\u001b[39m \u001b[38;5;28mlen\u001b[39m(this))\n",
      "\u001b[1;31merror\u001b[0m: nothing to repeat at position 0"
     ]
    }
   ],
   "source": [
    "\"\"\"This gives an error because there is nothin the position before '?'.\"\"\"\n",
    "x = re.search(\"?\",txt)\n",
    "result(x)"
   ]
  },
  {
   "cell_type": "code",
   "execution_count": 22,
   "id": "9dfaba16",
   "metadata": {},
   "outputs": [
    {
     "name": "stdout",
     "output_type": "stream",
     "text": [
      "NOT FOUND...!\n"
     ]
    }
   ],
   "source": [
    "\"\"\"It searches for '?' in th txt.\"\"\"\n",
    "x = re.search(\"\\?\",txt)\n",
    "result(x)"
   ]
  },
  {
   "cell_type": "code",
   "execution_count": 23,
   "id": "6a487213",
   "metadata": {},
   "outputs": [
    {
     "name": "stdout",
     "output_type": "stream",
     "text": [
      "\u001b[95mbaba\u001b[39m baabaa baaaabaaa\n"
     ]
    }
   ],
   "source": [
    "\"\"\"This searches for the string 'baba' from the txt\"\"\"\n",
    "txt= \"baba baabaa baaaabaaa\"\n",
    "x= re.search(\"baba\",txt)\n",
    "result(x)"
   ]
  },
  {
   "cell_type": "markdown",
   "id": "6d9c4dec",
   "metadata": {},
   "source": [
    "### Regex --> \" * \" :\n",
    "\n",
    "* This is called Kleene * .\n",
    "* If we have a * means the previous char or exp can occur 0 or more times.\n",
    "* zero or more occurrences of the previous char or expression"
   ]
  },
  {
   "cell_type": "code",
   "execution_count": 24,
   "id": "dcb7249b",
   "metadata": {},
   "outputs": [
    {
     "name": "stdout",
     "output_type": "stream",
     "text": [
      "\u001b[95mbb\u001b[39m\n"
     ]
    }
   ],
   "source": [
    "\"\"\"This searches for ba*ba* means the char or exp before * can occur\n",
    "0 or more times\"\"\"\n",
    "\n",
    "txt = \"bb\"\n",
    "x = re.search(\"ba*ba*\",txt)\n",
    "result(x)"
   ]
  },
  {
   "cell_type": "code",
   "execution_count": 25,
   "id": "a66a40aa",
   "metadata": {},
   "outputs": [
    {
     "name": "stdout",
     "output_type": "stream",
     "text": [
      "\u001b[95mbaabaa\u001b[39m baaaabaaa\n"
     ]
    }
   ],
   "source": [
    "\"\"\"This searches for baa*baa* means the char or exp before * can occur\n",
    "0 or more times. It has two possibilities and the first occurence is given \n",
    "as the output.\"\"\"\n",
    "\n",
    "txt = \"baabaa baaaabaaa\"\n",
    "x = re.search(\"baa*baa*\",txt)\n",
    "result(x)"
   ]
  },
  {
   "cell_type": "markdown",
   "id": "f8f87a48",
   "metadata": {},
   "source": [
    "##### Now let's use $ \"re.findall\" $ function to see all the possible outputs, not just the first occurence."
   ]
  },
  {
   "cell_type": "code",
   "execution_count": 26,
   "id": "9aaca341",
   "metadata": {},
   "outputs": [
    {
     "name": "stdout",
     "output_type": "stream",
     "text": [
      "['bba', 'baabaa', 'baaaabaaa']\n",
      "\u001b[95mbba\u001b[39m baabaa baaaabaaa\n"
     ]
    }
   ],
   "source": [
    "\"\"\"It gives all the possible outputs of the regex we want to find\"\"\"\n",
    "txt= \"bba baabaa baaaabaaa\"\n",
    "x= re.findall(\"ba*ba*\",txt)\n",
    "print(x)\n",
    "\"\"\"The first occurence\"\"\"\n",
    "x = re.search(\"ba*ba*\",txt)\n",
    "result(x)"
   ]
  },
  {
   "cell_type": "code",
   "execution_count": 27,
   "id": "fee4ed10",
   "metadata": {},
   "outputs": [
    {
     "name": "stdout",
     "output_type": "stream",
     "text": [
      "['baabaa', 'baaaabaaa']\n",
      "bba \u001b[95mbaabaa\u001b[39m baaaabaaa\n"
     ]
    }
   ],
   "source": [
    "\"\"\"It gives all the possible outputs of the regex we want to find\"\"\"\n",
    "txt= \"bba baabaa baaaabaaa\"\n",
    "x= re.findall(\"baa*baa*\",txt)\n",
    "print(x)\n",
    "\"\"\"The first occurence\"\"\"\n",
    "x = re.search(\"baa*baa*\",txt)\n",
    "result(x)"
   ]
  },
  {
   "cell_type": "code",
   "execution_count": 28,
   "id": "6606edd0",
   "metadata": {},
   "outputs": [
    {
     "name": "stdout",
     "output_type": "stream",
     "text": [
      "['baaaabaaa']\n",
      "bba baabaa \u001b[95mbaaaabaaa\u001b[39m\n"
     ]
    }
   ],
   "source": [
    "\"\"\"It gives all the possible outputs of the regex we want to find\"\"\"\n",
    "txt= \"bba baabaa baaaabaaa\"\n",
    "x= re.findall(\"baaaa*baaa*\",txt)\n",
    "print(x)\n",
    "\"\"\"The first occurence\"\"\"\n",
    "x = re.search(\"baaaa*baaa*\",txt)\n",
    "result(x)"
   ]
  },
  {
   "cell_type": "code",
   "execution_count": 29,
   "id": "f7e6e566",
   "metadata": {},
   "outputs": [
    {
     "name": "stdout",
     "output_type": "stream",
     "text": [
      "<re.Match object; span=(0, 0), match=''>\n",
      "['', '', 'ba', '', '', '', '']\n"
     ]
    }
   ],
   "source": [
    "\"\"\"It is searches for the char or exp 'b'that can occur 0 or more times and \n",
    "'a' that can occur 0 or more times.\n",
    "Here it is got matched at (0,0) means it is mapping to that to the  \n",
    "empty string\"\"\"\n",
    "txt= \"ggbadef\"\n",
    "x= re.search(\"b*a*\",txt)\n",
    "print(x)\n",
    "x= re.findall(\"b*a*\",txt)\n",
    "print(x)"
   ]
  },
  {
   "cell_type": "code",
   "execution_count": 30,
   "id": "3b6b0f31",
   "metadata": {},
   "outputs": [
    {
     "name": "stdout",
     "output_type": "stream",
     "text": [
      "['ba', 'ba', '', 'baa', 'baa', '', 'baaaa', 'baaa', '']\n",
      "\u001b[95mba\u001b[39mba baabaa baaaabaaa\n"
     ]
    }
   ],
   "source": [
    "\"\"\"It gives all the possible outputs of the regex we want to find\"\"\"\n",
    "txt= \"baba baabaa baaaabaaa\"\n",
    "x= re.findall(\"b*a*\",txt)\n",
    "print(x) # It is taking the space also as an empty string.\n",
    "\"\"\"The first occurence\"\"\"\n",
    "x = re.search(\"b*a*\",txt)\n",
    "result(x)"
   ]
  },
  {
   "cell_type": "code",
   "execution_count": 31,
   "id": "cd5568c1",
   "metadata": {},
   "outputs": [
    {
     "name": "stdout",
     "output_type": "stream",
     "text": [
      "\u001b[95mbabaaaaaabbbb\u001b[39m cccc\n",
      "['babaaaaaabbbb', '', '', '', '', '', '']\n"
     ]
    }
   ],
   "source": [
    "\"\"\"It is searching the txt whether it is 'b' or 'a' . And we know \n",
    "python takes maximal\"\"\"\n",
    "txt= \"babaaaaaabbbb cccc\" \n",
    "x= re.search(\"[ba]*\",txt)\n",
    "result(x)\n",
    "x= re.findall(\"[ba]*\",txt)\n",
    "print(x)"
   ]
  },
  {
   "cell_type": "code",
   "execution_count": 32,
   "id": "6ad6dd7d",
   "metadata": {},
   "outputs": [
    {
     "name": "stdout",
     "output_type": "stream",
     "text": [
      "\u001b[95mbaba\u001b[39m aaaaa bbbb cccc\n",
      "['baba', 'aaaaa', 'bbbb']\n"
     ]
    }
   ],
   "source": [
    "\"\"\"Here it searches for : the first disjunction '[ba]'means find 'b' or 'a'\n",
    "and the second disjunction '[ba]*' means 'b' or 'a' \n",
    "can occur any number of times. \"\"\"\n",
    "txt= \"baba aaaaa bbbb cccc\"\n",
    "x= re.search(\"[ba][ba]*\",txt)\n",
    "result(x)\n",
    "x= re.findall(\"[ba][ba]*\",txt)\n",
    "print(x)"
   ]
  },
  {
   "cell_type": "markdown",
   "id": "e63824ee",
   "metadata": {},
   "source": [
    "### Regex --> \" . \" :\n",
    "* This regex means that takes any $ \" Single \" $ character."
   ]
  },
  {
   "cell_type": "code",
   "execution_count": 34,
   "id": "cb9b7845",
   "metadata": {},
   "outputs": [
    {
     "name": "stdout",
     "output_type": "stream",
     "text": [
      "bba bca bsc msc a\n",
      "a\n",
      "\u001b[95mbba bca bsc msc a\u001b[39m\n",
      "a\n",
      "['bba bca bsc msc a']\n"
     ]
    }
   ],
   "source": [
    "\"\"\"Here it is searching for a 'b' followed by any character \n",
    "any number of times because of '*' and followed by a 'a'\"\"\"\n",
    "txt= \"bba bca bsc msc a\\na\"\n",
    "print(txt)\n",
    "x= re.search(\"b.*a\",txt)\n",
    "result(x)\n",
    "x= re.findall(\"b.*a\",txt)\n",
    "print(x)"
   ]
  },
  {
   "cell_type": "markdown",
   "id": "eaaa651f",
   "metadata": {},
   "source": [
    "### Regex --> \" + \" :\n",
    "\n",
    "* If we have $' + '$ means the prev char or exp can occur 1 or more times.\n",
    "* One or more occurences of the previous character or expression.\n",
    "\n"
   ]
  },
  {
   "cell_type": "code",
   "execution_count": 33,
   "id": "b2ae346c",
   "metadata": {},
   "outputs": [
    {
     "name": "stdout",
     "output_type": "stream",
     "text": [
      "\u001b[95mbaba\u001b[39m aaaaa bbbb cccc\n",
      "['baba', 'aaaaa', 'bbbb']\n"
     ]
    }
   ],
   "source": [
    "\"\"\"Here the search is for 'b' or 'a' can occur 1 or more times\"\"\"\n",
    "txt= \"baba aaaaa bbbb cccc\"\n",
    "x= re.search(\"[ba]+\",txt)\n",
    "result(x)\n",
    "x= re.findall(\"[ba]+\",txt)\n",
    "print(x)"
   ]
  },
  {
   "cell_type": "code",
   "execution_count": 36,
   "id": "3480abcd",
   "metadata": {},
   "outputs": [
    {
     "name": "stdout",
     "output_type": "stream",
     "text": [
      "first line \n",
      " dog \u001b[95mcats\u001b[39m dog cats dog second line \n",
      " third line cats \n",
      " fourth line cats dog catssssd\n",
      "['cats', 'cats', 'cats', 'cats', 'catssss']\n"
     ]
    }
   ],
   "source": [
    "\"\"\"This finds the cat followed by any number of 's' since it is having cats+ \"\"\"\n",
    "txt= \"first line \\n dog cats dog cats dog second line \\n third line cats \\n fourth line cats dog catssssd\"\n",
    "x= re.search(\"cats+\",txt)\n",
    "result(x)\n",
    "x= re.findall(\"cats+\",txt)\n",
    "print(x)"
   ]
  },
  {
   "cell_type": "code",
   "execution_count": 39,
   "id": "f1bd2059",
   "metadata": {},
   "outputs": [
    {
     "name": "stdout",
     "output_type": "stream",
     "text": [
      "first line \n",
      " dog catscats dog dog second line \n",
      " third line cats \n",
      " fourth line \u001b[95mcats dog cats\u001b[39msssd\n",
      "['cats dog cats']\n"
     ]
    }
   ],
   "source": [
    "\"\"\"This finds the cat followed by any number of 's' since it is having cats+ and '.' will take 1 or more 's'  \"\"\"\n",
    "txt= \"first line \\n dog catscats dog dog second line \\n third line cats \\n fourth line cats dog catssssd\"\n",
    "#txt= \"first line \\n dog catscats dog dog second line \\n third line cats cats fourth line cats dog catssssd\"\n",
    "x= re.search(\"cats.+cats\",txt)\n",
    "result(x)\n",
    "x= re.findall(\"cats.+cats\",txt)\n",
    "print(x)"
   ]
  },
  {
   "cell_type": "code",
   "execution_count": 41,
   "id": "fc74e959",
   "metadata": {},
   "outputs": [
    {
     "name": "stdout",
     "output_type": "stream",
     "text": [
      "first line \n",
      " dog \u001b[95mcatscats\u001b[39m dog dog second line \n",
      " third line cats \n",
      " fourth line cats dog catssssd\n",
      "['catscats', 'cats dog cats']\n"
     ]
    }
   ],
   "source": [
    "\"\"\"This takes cats followed by any character or exp because of '.' and that any character can be any number of times beacuse of * it takes zero or more prev exp\"\"\"\n",
    "txt= \"first line \\n dog catscats dog dog second line \\n third line cats \\n fourth line cats dog catssssd\"\n",
    "#txt= \"first line \\n dog catscats dog dog second line \\n third line cats cats fourth line cats dog catssssd\"\n",
    "x= re.search(\"cats.*cats\",txt)\n",
    "result(x)\n",
    "x= re.findall(\"cats.*cats\",txt)\n",
    "print(x)"
   ]
  },
  {
   "cell_type": "code",
   "execution_count": 42,
   "id": "adb6718b",
   "metadata": {},
   "outputs": [
    {
     "name": "stdout",
     "output_type": "stream",
     "text": [
      " The first line.\n",
      " The second line.\n",
      "\u001b[95mThe\u001b[39m The third line.\n",
      "The fourth line. \n",
      "['The', 'The']\n"
     ]
    }
   ],
   "source": [
    "\"\"\"It takes the line that starts with 'The' \"\"\"\n",
    "txt= \" The first line.\\n The second line.\\nThe The third line.\\nThe fourth line. \"\n",
    "x= re.search(\"^The\",txt, flags=re.MULTILINE)\n",
    "result(x)\n",
    "x= re.findall(\"^The\",txt, flags=re.MULTILINE)\n",
    "print(x)"
   ]
  },
  {
   "cell_type": "markdown",
   "id": "4a3a7feb",
   "metadata": {},
   "source": [
    "### Regex --> \"Dollar \" :\n",
    "* This regex means that takes any $ \" It ends with\" $ character."
   ]
  },
  {
   "cell_type": "code",
   "execution_count": 43,
   "id": "fe29ae4c",
   "metadata": {},
   "outputs": [
    {
     "name": "stdout",
     "output_type": "stream",
     "text": [
      " The \u001b[95mfirst line\u001b[39m\n",
      " The second line.\n",
      "The third line\n",
      "The fourth line\n",
      "['first line']\n"
     ]
    }
   ],
   "source": [
    "\"\"\"It finds that ends with 'first line' \"\"\"\n",
    "txt= \" The first line\\n The second line.\\nThe third line\\nThe fourth line\"\n",
    "x= re.search(\"first line$\",txt, flags=re.MULTILINE)\n",
    "result(x)\n",
    "x= re.findall(\"first line$\",txt, flags=re.MULTILINE)\n",
    "print(x)"
   ]
  },
  {
   "cell_type": "code",
   "execution_count": 44,
   "id": "23979d10",
   "metadata": {},
   "outputs": [
    {
     "name": "stdout",
     "output_type": "stream",
     "text": [
      " The first line\u001b[95m.\u001b[39m\n",
      " The second line.\n",
      "The third line.\n",
      "The fourth line. \n",
      "['.', '.', '.', ' ']\n"
     ]
    }
   ],
   "source": [
    "txt= \" The first line.\\n The second line.\\nThe third line.\\nThe fourth line. \"\n",
    "x= re.search(\".$\",txt, flags=re.MULTILINE)\n",
    "result(x)\n",
    "x= re.findall(\".$\",txt, flags=re.MULTILINE)\n",
    "print(x)"
   ]
  },
  {
   "cell_type": "code",
   "execution_count": 47,
   "id": "0f4ccc66",
   "metadata": {},
   "outputs": [
    {
     "name": "stdout",
     "output_type": "stream",
     "text": [
      " The first line\u001b[95m.\u001b[39m\n",
      " The second line.\n",
      "The third line.\n",
      "The fourth line. \n",
      "['.', '.', '.']\n"
     ]
    }
   ],
   "source": [
    "txt= \" The first line.\\n The second line.\\nThe third line.\\nThe fourth line. \"\n",
    "x= re.search(\"\\.$\",txt, flags=re.MULTILINE)\n",
    "result(x)\n",
    "x= re.findall(\"\\.$\",txt, flags=re.MULTILINE)\n",
    "print(x)"
   ]
  },
  {
   "cell_type": "code",
   "execution_count": 49,
   "id": "9a0a56ce",
   "metadata": {},
   "outputs": [
    {
     "name": "stdout",
     "output_type": "stream",
     "text": [
      "\u001b[95mthe\u001b[39mre is the. other in theirs\n",
      "[]\n"
     ]
    }
   ],
   "source": [
    "txt= \"there is the. other in theirs\"\n",
    "x= re.search(\"the\",txt)\n",
    "result(x)\n",
    "\"\"\"It is checking for space followed by 'the' followed by space\"\"\"\n",
    "x= re.findall(\" the \",txt)\n",
    "print(x)"
   ]
  },
  {
   "cell_type": "code",
   "execution_count": 51,
   "id": "6abbe175",
   "metadata": {},
   "outputs": [
    {
     "name": "stdout",
     "output_type": "stream",
     "text": [
      "there is the other in theirs\n",
      "there is \u001b[95mthe\u001b[39m other in theirs\n",
      "['the']\n"
     ]
    }
   ],
   "source": [
    "txt= \"there is the other in theirs\"\n",
    "print(txt)\n",
    "x= re.search(r\"\\bthe\\b\",txt)# checking for the word boundaries.\n",
    "result(x)\n",
    "x= re.findall(\"\\\\bthe\\\\b\",txt)\n",
    "print(x)"
   ]
  },
  {
   "cell_type": "code",
   "execution_count": 52,
   "id": "e1e5facb",
   "metadata": {},
   "outputs": [
    {
     "name": "stdout",
     "output_type": "stream",
     "text": [
      "his reg no is \u001b[95m99\u001b[39m. his rank is 199. he bought a shirt for Rs. 299 which in dollars is $99\n",
      "['99', '99']\n"
     ]
    }
   ],
   "source": [
    "txt= \"his reg no is 99. his rank is 199. he bought a shirt for Rs. 299 which in dollars is $99\"\n",
    "x= re.search(\"\\\\b99\\\\b\",txt)\n",
    "result(x)\n",
    "x= re.findall(\"\\\\b99\\\\b\",txt)\n",
    "print(x)"
   ]
  },
  {
   "cell_type": "code",
   "execution_count": 53,
   "id": "ba1522a5",
   "metadata": {},
   "outputs": [
    {
     "name": "stdout",
     "output_type": "stream",
     "text": [
      "his reg no is \u001b[95m99\u001b[39m. his rank is 199. he bought a shirt for Rs. 299 which in dollars is $99\n",
      "his reg no is 99. his rank is 199. he bought a shirt for Rs. 299 which in dollars is $\u001b[95m99\u001b[39m\n"
     ]
    }
   ],
   "source": [
    "txt= \"his reg no is 99. his rank is 199. he bought a shirt for Rs. 299 which in dollars is $99\"\n",
    "x= re.finditer(\"\\\\b99\\\\b\",txt)\n",
    "for m in x:\n",
    "    result(m)"
   ]
  },
  {
   "cell_type": "code",
   "execution_count": 55,
   "id": "7113d83d",
   "metadata": {},
   "outputs": [
    {
     "name": "stdout",
     "output_type": "stream",
     "text": [
      "This line h\u001b[95ma\u001b[39ms none. \n",
      "This line has a cat.\n",
      "This line has a dog.\n",
      "This line has a cat and a dog.\n",
      "This line has n\u001b[95mo\u001b[39mne. \n",
      "This line has a cat.\n",
      "This line has a dog.\n",
      "This line has a cat and a dog.\n",
      "This line has none. \n",
      "This line h\u001b[95ma\u001b[39ms a cat.\n",
      "This line has a dog.\n",
      "This line has a cat and a dog.\n",
      "This line has none. \n",
      "This line has \u001b[95ma\u001b[39m cat.\n",
      "This line has a dog.\n",
      "This line has a cat and a dog.\n",
      "This line has none. \n",
      "This line has a \u001b[95mc\u001b[39mat.\n",
      "This line has a dog.\n",
      "This line has a cat and a dog.\n",
      "This line has none. \n",
      "This line has a c\u001b[95ma\u001b[39mt.\n",
      "This line has a dog.\n",
      "This line has a cat and a dog.\n",
      "This line has none. \n",
      "This line has a ca\u001b[95mt\u001b[39m.\n",
      "This line has a dog.\n",
      "This line has a cat and a dog.\n",
      "This line has none. \n",
      "This line has a cat.\n",
      "This line h\u001b[95ma\u001b[39ms a dog.\n",
      "This line has a cat and a dog.\n",
      "This line has none. \n",
      "This line has a cat.\n",
      "This line has \u001b[95ma\u001b[39m dog.\n",
      "This line has a cat and a dog.\n",
      "This line has none. \n",
      "This line has a cat.\n",
      "This line has a \u001b[95md\u001b[39mog.\n",
      "This line has a cat and a dog.\n",
      "This line has none. \n",
      "This line has a cat.\n",
      "This line has a d\u001b[95mo\u001b[39mg.\n",
      "This line has a cat and a dog.\n",
      "This line has none. \n",
      "This line has a cat.\n",
      "This line has a do\u001b[95mg\u001b[39m.\n",
      "This line has a cat and a dog.\n",
      "This line has none. \n",
      "This line has a cat.\n",
      "This line has a dog.\n",
      "This line h\u001b[95ma\u001b[39ms a cat and a dog.\n",
      "This line has none. \n",
      "This line has a cat.\n",
      "This line has a dog.\n",
      "This line has \u001b[95ma\u001b[39m cat and a dog.\n",
      "This line has none. \n",
      "This line has a cat.\n",
      "This line has a dog.\n",
      "This line has a \u001b[95mc\u001b[39mat and a dog.\n",
      "This line has none. \n",
      "This line has a cat.\n",
      "This line has a dog.\n",
      "This line has a c\u001b[95ma\u001b[39mt and a dog.\n",
      "This line has none. \n",
      "This line has a cat.\n",
      "This line has a dog.\n",
      "This line has a ca\u001b[95mt\u001b[39m and a dog.\n",
      "This line has none. \n",
      "This line has a cat.\n",
      "This line has a dog.\n",
      "This line has a cat \u001b[95ma\u001b[39mnd a dog.\n",
      "This line has none. \n",
      "This line has a cat.\n",
      "This line has a dog.\n",
      "This line has a cat an\u001b[95md\u001b[39m a dog.\n",
      "This line has none. \n",
      "This line has a cat.\n",
      "This line has a dog.\n",
      "This line has a cat and \u001b[95ma\u001b[39m dog.\n",
      "This line has none. \n",
      "This line has a cat.\n",
      "This line has a dog.\n",
      "This line has a cat and a \u001b[95md\u001b[39mog.\n",
      "This line has none. \n",
      "This line has a cat.\n",
      "This line has a dog.\n",
      "This line has a cat and a d\u001b[95mo\u001b[39mg.\n",
      "This line has none. \n",
      "This line has a cat.\n",
      "This line has a dog.\n",
      "This line has a cat and a do\u001b[95mg\u001b[39m.\n"
     ]
    }
   ],
   "source": [
    "#Find all cats or dogs. Why does'nt this work?\n",
    "\"\"\"It is inside the disjunction so it is searching for each alphabet inside the disjunction not as a word.\"\"\"\n",
    "txt= \"This line has none. \\nThis line has a cat.\\nThis line has a dog.\\nThis line has a cat and a dog.\"\n",
    "x= re.finditer(\"[catdog]\",txt)\n",
    "for m in x:\n",
    "    result(m)"
   ]
  },
  {
   "cell_type": "markdown",
   "id": "8a876008",
   "metadata": {},
   "source": [
    "### Regex  ---> \" | \" :\n",
    "* This is like $ or $ .\n",
    "* For example, (Satya|Sai) means 'Satya' or 'Sai' not like 'a' or 'S'"
   ]
  },
  {
   "cell_type": "code",
   "execution_count": 56,
   "id": "65e61868",
   "metadata": {},
   "outputs": [
    {
     "name": "stdout",
     "output_type": "stream",
     "text": [
      "0\n",
      "This line has none. \n",
      "This line has a \u001b[95mcat\u001b[39m.\n",
      "This line has a dog.\n",
      "This line has a cat and a dog.\n",
      "1\n",
      "This line has none. \n",
      "This line has a cat.\n",
      "This line has a \u001b[95mdog\u001b[39m.\n",
      "This line has a cat and a dog.\n",
      "2\n",
      "This line has none. \n",
      "This line has a cat.\n",
      "This line has a dog.\n",
      "This line has a \u001b[95mcat\u001b[39m and a dog.\n",
      "3\n",
      "This line has none. \n",
      "This line has a cat.\n",
      "This line has a dog.\n",
      "This line has a cat and a \u001b[95mdog\u001b[39m.\n"
     ]
    }
   ],
   "source": [
    "#Find all cats or dogs.\n",
    "\"\"\"This will find cat or dog\"\"\"\n",
    "txt= \"This line has none. \\nThis line has a cat.\\nThis line has a dog.\\nThis line has a cat and a dog.\"\n",
    "x= re.finditer(\"cat|dog\",txt)\n",
    "for i,m in enumerate(x):\n",
    "    print(i)\n",
    "    result(m)"
   ]
  },
  {
   "cell_type": "code",
   "execution_count": 57,
   "id": "d26e3b2e",
   "metadata": {},
   "outputs": [
    {
     "name": "stdout",
     "output_type": "stream",
     "text": [
      "0\n",
      "This line is \u001b[95mfunny\u001b[39m. \n",
      "This line is more funny.\n",
      "This line is funnier.\n",
      "This line has no fun but carrier.\n",
      "1\n",
      "This line is funny. \n",
      "This line is more \u001b[95mfunny\u001b[39m.\n",
      "This line is funnier.\n",
      "This line has no fun but carrier.\n",
      "2\n",
      "This line is funny. \n",
      "This line is more funny.\n",
      "This line is funn\u001b[95mier\u001b[39m.\n",
      "This line has no fun but carrier.\n",
      "3\n",
      "This line is funny. \n",
      "This line is more funny.\n",
      "This line is funnier.\n",
      "This line has no fun but carr\u001b[95mier\u001b[39m.\n"
     ]
    }
   ],
   "source": [
    "#Find all instances of funny or funnier.\n",
    "txt= \"This line is funny. \\nThis line is more funny.\\nThis line is funnier.\\nThis line has no fun but carrier.\"\n",
    "x= re.finditer(\"funny|ier\",txt)\n",
    "for i,m in enumerate(x):\n",
    "    print(i)\n",
    "    result(m)"
   ]
  },
  {
   "cell_type": "code",
   "execution_count": 59,
   "id": "683e2dec",
   "metadata": {},
   "outputs": [
    {
     "name": "stdout",
     "output_type": "stream",
     "text": [
      "0\n",
      "This line is \u001b[95mfunny\u001b[39m. \n",
      "This line is more funny.\n",
      "This line is funnier.\n",
      "This line has no fun but carrier.\n",
      "1\n",
      "This line is funny. \n",
      "This line is more \u001b[95mfunny\u001b[39m.\n",
      "This line is funnier.\n",
      "This line has no fun but carrier.\n",
      "2\n",
      "This line is funny. \n",
      "This line is more funny.\n",
      "This line is \u001b[95mfunnier\u001b[39m.\n",
      "This line has no fun but carrier.\n"
     ]
    }
   ],
   "source": [
    "#Find all instances of funny or funnier.\n",
    "\"\"\"It is searcing for funny followed by 'y' or 'ier' \"\"\"\n",
    "txt= \"This line is funny. \\nThis line is more funny.\\nThis line is funnier.\\nThis line has no fun but carrier.\"\n",
    "x= re.finditer(\"funn(y|ier)\",txt)\n",
    "for i,m in enumerate(x):\n",
    "    print(i)\n",
    "    result(m)"
   ]
  },
  {
   "cell_type": "code",
   "execution_count": 61,
   "id": "e836e3cd",
   "metadata": {},
   "outputs": [
    {
     "name": "stdout",
     "output_type": "stream",
     "text": [
      "0\n",
      "This line has \u001b[95mCol13\u001b[39m. \n",
      "This line has Col13 and Col14.\n",
      "Only Col14.\n",
      "Col13 Col14\n",
      "1\n",
      "This line has Col13. \n",
      "This line has \u001b[95mCol13\u001b[39m and Col14.\n",
      "Only Col14.\n",
      "Col13 Col14\n",
      "2\n",
      "This line has Col13. \n",
      "This line has Col13 and \u001b[95mCol14\u001b[39m.\n",
      "Only Col14.\n",
      "Col13 Col14\n",
      "3\n",
      "This line has Col13. \n",
      "This line has Col13 and Col14.\n",
      "Only \u001b[95mCol14\u001b[39m.\n",
      "Col13 Col14\n",
      "4\n",
      "This line has Col13. \n",
      "This line has Col13 and Col14.\n",
      "Only Col14.\n",
      "\u001b[95mCol13\u001b[39m Col14\n",
      "5\n",
      "This line has Col13. \n",
      "This line has Col13 and Col14.\n",
      "Only Col14.\n",
      "Col13 \u001b[95mCol14\u001b[39m\n"
     ]
    }
   ],
   "source": [
    "#Find all instances of Col<int> repeated any number of times.\n",
    "\"\"\"This is searching for Col followed by a numeric and zero or more numeric following the first.\"\"\"\n",
    "txt= \"This line has Col13. \\nThis line has Col13 and Col14.\\nOnly Col14.\\nCol13 Col14\"\n",
    "x= re.finditer(\"Col[0-9][0-9]*\",txt)\n",
    "for i,m in enumerate(x):\n",
    "    print(i)\n",
    "    result(m)"
   ]
  },
  {
   "cell_type": "code",
   "execution_count": 62,
   "id": "f9576547",
   "metadata": {},
   "outputs": [
    {
     "name": "stdout",
     "output_type": "stream",
     "text": [
      "0\n",
      "\u001b[95m\u001b[39mThis line has Col13. \n",
      "This line has Col13 and Col14.\n",
      "Only Col14.\n",
      "Col13 Col14\n",
      "1\n",
      "T\u001b[95m\u001b[39mhis line has Col13. \n",
      "This line has Col13 and Col14.\n",
      "Only Col14.\n",
      "Col13 Col14\n",
      "2\n",
      "Th\u001b[95m\u001b[39mis line has Col13. \n",
      "This line has Col13 and Col14.\n",
      "Only Col14.\n",
      "Col13 Col14\n",
      "3\n",
      "Thi\u001b[95m\u001b[39ms line has Col13. \n",
      "This line has Col13 and Col14.\n",
      "Only Col14.\n",
      "Col13 Col14\n",
      "4\n",
      "This\u001b[95m\u001b[39m line has Col13. \n",
      "This line has Col13 and Col14.\n",
      "Only Col14.\n",
      "Col13 Col14\n",
      "5\n",
      "This \u001b[95m\u001b[39mline has Col13. \n",
      "This line has Col13 and Col14.\n",
      "Only Col14.\n",
      "Col13 Col14\n",
      "6\n",
      "This l\u001b[95m\u001b[39mine has Col13. \n",
      "This line has Col13 and Col14.\n",
      "Only Col14.\n",
      "Col13 Col14\n",
      "7\n",
      "This li\u001b[95m\u001b[39mne has Col13. \n",
      "This line has Col13 and Col14.\n",
      "Only Col14.\n",
      "Col13 Col14\n",
      "8\n",
      "This lin\u001b[95m\u001b[39me has Col13. \n",
      "This line has Col13 and Col14.\n",
      "Only Col14.\n",
      "Col13 Col14\n",
      "9\n",
      "This line\u001b[95m\u001b[39m has Col13. \n",
      "This line has Col13 and Col14.\n",
      "Only Col14.\n",
      "Col13 Col14\n",
      "10\n",
      "This line \u001b[95m\u001b[39mhas Col13. \n",
      "This line has Col13 and Col14.\n",
      "Only Col14.\n",
      "Col13 Col14\n",
      "11\n",
      "This line h\u001b[95m\u001b[39mas Col13. \n",
      "This line has Col13 and Col14.\n",
      "Only Col14.\n",
      "Col13 Col14\n",
      "12\n",
      "This line ha\u001b[95m\u001b[39ms Col13. \n",
      "This line has Col13 and Col14.\n",
      "Only Col14.\n",
      "Col13 Col14\n",
      "13\n",
      "This line has\u001b[95m\u001b[39m Col13. \n",
      "This line has Col13 and Col14.\n",
      "Only Col14.\n",
      "Col13 Col14\n",
      "14\n",
      "This line has \u001b[95mCol13\u001b[39m. \n",
      "This line has Col13 and Col14.\n",
      "Only Col14.\n",
      "Col13 Col14\n",
      "15\n",
      "This line has Col13\u001b[95m\u001b[39m. \n",
      "This line has Col13 and Col14.\n",
      "Only Col14.\n",
      "Col13 Col14\n",
      "16\n",
      "This line has Col13.\u001b[95m\u001b[39m \n",
      "This line has Col13 and Col14.\n",
      "Only Col14.\n",
      "Col13 Col14\n",
      "17\n",
      "This line has Col13. \u001b[95m\u001b[39m\n",
      "This line has Col13 and Col14.\n",
      "Only Col14.\n",
      "Col13 Col14\n",
      "18\n",
      "This line has Col13. \n",
      "\u001b[95m\u001b[39mThis line has Col13 and Col14.\n",
      "Only Col14.\n",
      "Col13 Col14\n",
      "19\n",
      "This line has Col13. \n",
      "T\u001b[95m\u001b[39mhis line has Col13 and Col14.\n",
      "Only Col14.\n",
      "Col13 Col14\n",
      "20\n",
      "This line has Col13. \n",
      "Th\u001b[95m\u001b[39mis line has Col13 and Col14.\n",
      "Only Col14.\n",
      "Col13 Col14\n",
      "21\n",
      "This line has Col13. \n",
      "Thi\u001b[95m\u001b[39ms line has Col13 and Col14.\n",
      "Only Col14.\n",
      "Col13 Col14\n",
      "22\n",
      "This line has Col13. \n",
      "This\u001b[95m\u001b[39m line has Col13 and Col14.\n",
      "Only Col14.\n",
      "Col13 Col14\n",
      "23\n",
      "This line has Col13. \n",
      "This \u001b[95m\u001b[39mline has Col13 and Col14.\n",
      "Only Col14.\n",
      "Col13 Col14\n",
      "24\n",
      "This line has Col13. \n",
      "This l\u001b[95m\u001b[39mine has Col13 and Col14.\n",
      "Only Col14.\n",
      "Col13 Col14\n",
      "25\n",
      "This line has Col13. \n",
      "This li\u001b[95m\u001b[39mne has Col13 and Col14.\n",
      "Only Col14.\n",
      "Col13 Col14\n",
      "26\n",
      "This line has Col13. \n",
      "This lin\u001b[95m\u001b[39me has Col13 and Col14.\n",
      "Only Col14.\n",
      "Col13 Col14\n",
      "27\n",
      "This line has Col13. \n",
      "This line\u001b[95m\u001b[39m has Col13 and Col14.\n",
      "Only Col14.\n",
      "Col13 Col14\n",
      "28\n",
      "This line has Col13. \n",
      "This line \u001b[95m\u001b[39mhas Col13 and Col14.\n",
      "Only Col14.\n",
      "Col13 Col14\n",
      "29\n",
      "This line has Col13. \n",
      "This line h\u001b[95m\u001b[39mas Col13 and Col14.\n",
      "Only Col14.\n",
      "Col13 Col14\n",
      "30\n",
      "This line has Col13. \n",
      "This line ha\u001b[95m\u001b[39ms Col13 and Col14.\n",
      "Only Col14.\n",
      "Col13 Col14\n",
      "31\n",
      "This line has Col13. \n",
      "This line has\u001b[95m\u001b[39m Col13 and Col14.\n",
      "Only Col14.\n",
      "Col13 Col14\n",
      "32\n",
      "This line has Col13. \n",
      "This line has \u001b[95mCol13\u001b[39m and Col14.\n",
      "Only Col14.\n",
      "Col13 Col14\n",
      "33\n",
      "This line has Col13. \n",
      "This line has Col13\u001b[95m\u001b[39m and Col14.\n",
      "Only Col14.\n",
      "Col13 Col14\n",
      "34\n",
      "This line has Col13. \n",
      "This line has Col13 \u001b[95m\u001b[39mand Col14.\n",
      "Only Col14.\n",
      "Col13 Col14\n",
      "35\n",
      "This line has Col13. \n",
      "This line has Col13 a\u001b[95m\u001b[39mnd Col14.\n",
      "Only Col14.\n",
      "Col13 Col14\n",
      "36\n",
      "This line has Col13. \n",
      "This line has Col13 an\u001b[95m\u001b[39md Col14.\n",
      "Only Col14.\n",
      "Col13 Col14\n",
      "37\n",
      "This line has Col13. \n",
      "This line has Col13 and\u001b[95m\u001b[39m Col14.\n",
      "Only Col14.\n",
      "Col13 Col14\n",
      "38\n",
      "This line has Col13. \n",
      "This line has Col13 and \u001b[95mCol14\u001b[39m.\n",
      "Only Col14.\n",
      "Col13 Col14\n",
      "39\n",
      "This line has Col13. \n",
      "This line has Col13 and Col14\u001b[95m\u001b[39m.\n",
      "Only Col14.\n",
      "Col13 Col14\n",
      "40\n",
      "This line has Col13. \n",
      "This line has Col13 and Col14.\u001b[95m\u001b[39m\n",
      "Only Col14.\n",
      "Col13 Col14\n",
      "41\n",
      "This line has Col13. \n",
      "This line has Col13 and Col14.\n",
      "\u001b[95m\u001b[39mOnly Col14.\n",
      "Col13 Col14\n",
      "42\n",
      "This line has Col13. \n",
      "This line has Col13 and Col14.\n",
      "O\u001b[95m\u001b[39mnly Col14.\n",
      "Col13 Col14\n",
      "43\n",
      "This line has Col13. \n",
      "This line has Col13 and Col14.\n",
      "On\u001b[95m\u001b[39mly Col14.\n",
      "Col13 Col14\n",
      "44\n",
      "This line has Col13. \n",
      "This line has Col13 and Col14.\n",
      "Onl\u001b[95m\u001b[39my Col14.\n",
      "Col13 Col14\n",
      "45\n",
      "This line has Col13. \n",
      "This line has Col13 and Col14.\n",
      "Only\u001b[95m\u001b[39m Col14.\n",
      "Col13 Col14\n",
      "46\n",
      "This line has Col13. \n",
      "This line has Col13 and Col14.\n",
      "Only \u001b[95mCol14\u001b[39m.\n",
      "Col13 Col14\n",
      "47\n",
      "This line has Col13. \n",
      "This line has Col13 and Col14.\n",
      "Only Col14\u001b[95m\u001b[39m.\n",
      "Col13 Col14\n",
      "48\n",
      "This line has Col13. \n",
      "This line has Col13 and Col14.\n",
      "Only Col14.\u001b[95m\u001b[39m\n",
      "Col13 Col14\n",
      "49\n",
      "This line has Col13. \n",
      "This line has Col13 and Col14.\n",
      "Only Col14.\n",
      "\u001b[95mCol13\u001b[39m Col14\n",
      "50\n",
      "This line has Col13. \n",
      "This line has Col13 and Col14.\n",
      "Only Col14.\n",
      "Col13\u001b[95m\u001b[39m Col14\n",
      "51\n",
      "This line has Col13. \n",
      "This line has Col13 and Col14.\n",
      "Only Col14.\n",
      "Col13 \u001b[95mCol14\u001b[39m\n",
      "52\n",
      "This line has Col13. \n",
      "This line has Col13 and Col14.\n",
      "Only Col14.\n",
      "Col13 Col14\u001b[95m\u001b[39m\n"
     ]
    }
   ],
   "source": [
    "#Find all instances of Col<int> repeated any number of times.\n",
    "txt= \"This line has Col13. \\nThis line has Col13 and Col14.\\nOnly Col14.\\nCol13 Col14\"\n",
    "x= re.finditer(\"(Col[0-9][0-9])*\",txt)\n",
    "for i,m in enumerate(x):\n",
    "    print(i)\n",
    "    result(m)"
   ]
  },
  {
   "cell_type": "code",
   "execution_count": 64,
   "id": "9f45c6d2",
   "metadata": {},
   "outputs": [
    {
     "name": "stdout",
     "output_type": "stream",
     "text": [
      "0\n",
      "This line has \u001b[95mCol13\u001b[39m. \n",
      "This line has Col13 and Col14.\n",
      "Only Col14.\n",
      "Col13 Col14\n",
      "1\n",
      "This line has Col13. \n",
      "This line has \u001b[95mCol13 \u001b[39mand Col14.\n",
      "Only Col14.\n",
      "Col13 Col14\n",
      "2\n",
      "This line has Col13. \n",
      "This line has Col13 and \u001b[95mCol14\u001b[39m.\n",
      "Only Col14.\n",
      "Col13 Col14\n",
      "3\n",
      "This line has Col13. \n",
      "This line has Col13 and Col14.\n",
      "Only \u001b[95mCol14\u001b[39m.\n",
      "Col13 Col14\n",
      "4\n",
      "This line has Col13. \n",
      "This line has Col13 and Col14.\n",
      "Only Col14.\n",
      "\u001b[95mCol13 Col14\u001b[39m\n"
     ]
    }
   ],
   "source": [
    "#Find all instances of Col<int> repeated any number of times.\n",
    "\"\"\"This is searching for Colfollowing by one or more numbers.\"\"\"\n",
    "txt= \"This line has Col13. \\nThis line has Col13 and Col14.\\nOnly Col14.\\nCol13 Col14\"\n",
    "x= re.finditer(\"(Col[0-9]+ *)+\",txt)\n",
    "for i,m in enumerate(x):\n",
    "    print(i)\n",
    "    result(m)"
   ]
  },
  {
   "cell_type": "code",
   "execution_count": 66,
   "id": "d0fce095",
   "metadata": {},
   "outputs": [
    {
     "name": "stdout",
     "output_type": "stream",
     "text": [
      "0\n",
      "This line has Col13. \n",
      "This line has Col13 and Col14.\n",
      "Only Col14.\n",
      "\u001b[95mCol13 Col14\u001b[39m\n"
     ]
    }
   ],
   "source": [
    "#Find all instances of Col<int> repeated any number of times.\n",
    "\"\"\"This is searching for line starting with Col and followed by one or more numbers\"\"\"\n",
    "txt= \"This line has Col13. \\nThis line has Col13 and Col14.\\nOnly Col14.\\nCol13 Col14\"\n",
    "x= re.finditer(\"^(Col[0-9]+ *)+\",txt,flags=re.MULTILINE)\n",
    "for i,m in enumerate(x):\n",
    "    print(i)\n",
    "    result(m)"
   ]
  },
  {
   "cell_type": "code",
   "execution_count": 68,
   "id": "0a12af2f",
   "metadata": {},
   "outputs": [
    {
     "name": "stdout",
     "output_type": "stream",
     "text": [
      "0\n",
      "This line has Col13. \n",
      "This line has Col13 and Col14.\n",
      "Only Col14.\n",
      "\u001b[95mCol13 Col14  Col15       Col16\u001b[39m\n"
     ]
    }
   ],
   "source": [
    "#Find all instances of Col<int> repeated any number of times.\n",
    "\"\"\"This is searching for line starting with Col and followed by one or more numbers\"\"\"\n",
    "\n",
    "txt= \"This line has Col13. \\nThis line has Col13 and Col14.\\nOnly Col14.\\nCol13 Col14  Col15       Col16\"\n",
    "x= re.finditer(\"^(Col[0-9]+ *)+\",txt,flags=re.MULTILINE)\n",
    "for i,m in enumerate(x):\n",
    "    print(i)\n",
    "    result(m)"
   ]
  },
  {
   "cell_type": "code",
   "execution_count": 70,
   "id": "0d7a35e6",
   "metadata": {},
   "outputs": [
    {
     "name": "stdout",
     "output_type": "stream",
     "text": [
      "0\n",
      "This line has \u001b[95mCol13\u001b[39m. \n",
      "This line has Col13 and Col14.\n",
      "Only Col14.\n",
      "Col13 Col14\n",
      "1\n",
      "This line has Col13. \n",
      "This line has \u001b[95mCol13\u001b[39m and Col14.\n",
      "Only Col14.\n",
      "Col13 Col14\n",
      "2\n",
      "This line has Col13. \n",
      "This line has Col13 and \u001b[95mCol14\u001b[39m.\n",
      "Only Col14.\n",
      "Col13 Col14\n",
      "3\n",
      "This line has Col13. \n",
      "This line has Col13 and Col14.\n",
      "Only \u001b[95mCol14\u001b[39m.\n",
      "Col13 Col14\n",
      "4\n",
      "This line has Col13. \n",
      "This line has Col13 and Col14.\n",
      "Only Col14.\n",
      "\u001b[95mCol13\u001b[39m Col14\n",
      "5\n",
      "This line has Col13. \n",
      "This line has Col13 and Col14.\n",
      "Only Col14.\n",
      "Col13 \u001b[95mCol14\u001b[39m\n"
     ]
    }
   ],
   "source": [
    "#Find all instances of Col<int><int>.\n",
    "\"\"\" In this it is searching for Col followed by any 2 numbers from 0-9\"\"\"\n",
    "txt= \"This line has Col13. \\nThis line has Col13 and Col14.\\nOnly Col14.\\nCol13 Col14\"\n",
    "x= re.finditer(\"Col[0-9]{2}\",txt)\n",
    "for i,m in enumerate(x):\n",
    "    print(i)\n",
    "    result(m)"
   ]
  },
  {
   "cell_type": "code",
   "execution_count": 71,
   "id": "4572309c",
   "metadata": {},
   "outputs": [
    {
     "name": "stdout",
     "output_type": "stream",
     "text": [
      "0\n",
      "This line has Col1. \n",
      "This line has Col3 and \u001b[95mCol14\u001b[39m.\n",
      "Only Col14.\n",
      "Col13 Col14\n",
      "1\n",
      "This line has Col1. \n",
      "This line has Col3 and Col14.\n",
      "Only \u001b[95mCol14\u001b[39m.\n",
      "Col13 Col14\n",
      "2\n",
      "This line has Col1. \n",
      "This line has Col3 and Col14.\n",
      "Only Col14.\n",
      "\u001b[95mCol13\u001b[39m Col14\n",
      "3\n",
      "This line has Col1. \n",
      "This line has Col3 and Col14.\n",
      "Only Col14.\n",
      "Col13 \u001b[95mCol14\u001b[39m\n"
     ]
    }
   ],
   "source": [
    "#Find all instances of Col<int><int>.\n",
    "txt= \"This line has Col1. \\nThis line has Col3 and Col14.\\nOnly Col14.\\nCol13 Col14\"\n",
    "x= re.finditer(\"Col[0-9]{2}\",txt)\n",
    "for i,m in enumerate(x):\n",
    "    print(i)\n",
    "    result(m)"
   ]
  },
  {
   "cell_type": "code",
   "execution_count": 73,
   "id": "c6a347a6",
   "metadata": {},
   "outputs": [
    {
     "name": "stdout",
     "output_type": "stream",
     "text": [
      "0\n",
      "This line has \u001b[95mCol12\u001b[39m3. \n",
      "This line has Col3 and Col14.\n",
      "Only Col14.\n",
      "Col13 Col14\n",
      "1\n",
      "This line has Col123. \n",
      "This line has \u001b[95mCol3\u001b[39m and Col14.\n",
      "Only Col14.\n",
      "Col13 Col14\n",
      "2\n",
      "This line has Col123. \n",
      "This line has Col3 and \u001b[95mCol14\u001b[39m.\n",
      "Only Col14.\n",
      "Col13 Col14\n",
      "3\n",
      "This line has Col123. \n",
      "This line has Col3 and Col14.\n",
      "Only \u001b[95mCol14\u001b[39m.\n",
      "Col13 Col14\n",
      "4\n",
      "This line has Col123. \n",
      "This line has Col3 and Col14.\n",
      "Only Col14.\n",
      "\u001b[95mCol13\u001b[39m Col14\n",
      "5\n",
      "This line has Col123. \n",
      "This line has Col3 and Col14.\n",
      "Only Col14.\n",
      "Col13 \u001b[95mCol14\u001b[39m\n"
     ]
    }
   ],
   "source": [
    "#Find all instances of Col<int><int>.\n",
    "\n",
    "\"\"\"This is searching for Col followed by minimum 1 number and maximum 2 numbers.\"\"\"\n",
    "\n",
    "txt= \"This line has Col123. \\nThis line has Col3 and Col14.\\nOnly Col14.\\nCol13 Col14\"\n",
    "x= re.finditer(\"Col[0-9]{1,2}\",txt)\n",
    "for i,m in enumerate(x):\n",
    "    print(i)\n",
    "    result(m)"
   ]
  },
  {
   "cell_type": "code",
   "execution_count": 75,
   "id": "0c402459",
   "metadata": {},
   "outputs": [
    {
     "name": "stdout",
     "output_type": "stream",
     "text": [
      "0\n",
      "This line has \u001b[95mCol123\u001b[39m. \n",
      "This line has Col3 and Col14.\n",
      "Only Col14.\n",
      "Col13 Col14\n",
      "1\n",
      "This line has Col123. \n",
      "This line has Col3 and \u001b[95mCol14\u001b[39m.\n",
      "Only Col14.\n",
      "Col13 Col14\n",
      "2\n",
      "This line has Col123. \n",
      "This line has Col3 and Col14.\n",
      "Only \u001b[95mCol14\u001b[39m.\n",
      "Col13 Col14\n",
      "3\n",
      "This line has Col123. \n",
      "This line has Col3 and Col14.\n",
      "Only Col14.\n",
      "\u001b[95mCol13\u001b[39m Col14\n",
      "4\n",
      "This line has Col123. \n",
      "This line has Col3 and Col14.\n",
      "Only Col14.\n",
      "Col13 \u001b[95mCol14\u001b[39m\n"
     ]
    }
   ],
   "source": [
    "#Find all instances of Col<int><int>.\n",
    "\n",
    "\"\"\"This is searching for Col followed by minimum 2 numbers and maximum can be infinite.\"\"\"\n",
    "\n",
    "txt= \"This line has Col123. \\nThis line has Col3 and Col14.\\nOnly Col14.\\nCol13 Col14\"\n",
    "x= re.finditer(\"Col[0-9]{2,}\",txt)\n",
    "for i,m in enumerate(x):\n",
    "    print(i)\n",
    "    result(m)"
   ]
  },
  {
   "cell_type": "code",
   "execution_count": 76,
   "id": "89502b95",
   "metadata": {},
   "outputs": [
    {
     "name": "stdout",
     "output_type": "stream",
     "text": [
      "<re.Match object; span=(14, 20), match='Col1{}'>\n"
     ]
    },
    {
     "ename": "TypeError",
     "evalue": "'re.Match' object is not iterable",
     "output_type": "error",
     "traceback": [
      "\u001b[1;31m---------------------------------------------------------------------------\u001b[0m",
      "\u001b[1;31mTypeError\u001b[0m                                 Traceback (most recent call last)",
      "Cell \u001b[1;32mIn[76], line 5\u001b[0m\n\u001b[0;32m      3\u001b[0m x\u001b[38;5;241m=\u001b[39m re\u001b[38;5;241m.\u001b[39msearch(\u001b[38;5;124m\"\u001b[39m\u001b[38;5;124mCol[0-9]\u001b[39m\u001b[38;5;132;01m{}\u001b[39;00m\u001b[38;5;124m\"\u001b[39m,txt)\n\u001b[0;32m      4\u001b[0m \u001b[38;5;28mprint\u001b[39m(x)\n\u001b[1;32m----> 5\u001b[0m \u001b[38;5;28;01mfor\u001b[39;00m i,m \u001b[38;5;129;01min\u001b[39;00m \u001b[38;5;28;43menumerate\u001b[39;49m\u001b[43m(\u001b[49m\u001b[43mx\u001b[49m\u001b[43m)\u001b[49m:\n\u001b[0;32m      6\u001b[0m     \u001b[38;5;28mprint\u001b[39m(i)\n\u001b[0;32m      7\u001b[0m     result(m)\n",
      "\u001b[1;31mTypeError\u001b[0m: 're.Match' object is not iterable"
     ]
    }
   ],
   "source": [
    "#Find all instances of Col<int><int>.\n",
    "txt= \"This line has Col1{}. \\nThis line has Col3 and Col14.\\nOnly Col14.\\nCol13 Col14 Col\"\n",
    "x= re.search(\"Col[0-9]{}\",txt)\n",
    "print(x)\n",
    "for i,m in enumerate(x):\n",
    "    print(i)\n",
    "    result(m)"
   ]
  },
  {
   "cell_type": "code",
   "execution_count": 80,
   "id": "7a6b8e04",
   "metadata": {},
   "outputs": [
    {
     "ename": "error",
     "evalue": "nothing to repeat at position 0",
     "output_type": "error",
     "traceback": [
      "\u001b[1;31m---------------------------------------------------------------------------\u001b[0m",
      "\u001b[1;31merror\u001b[0m                                     Traceback (most recent call last)",
      "Cell \u001b[1;32mIn[80], line 5\u001b[0m\n\u001b[0;32m      2\u001b[0m \u001b[38;5;124;03m\"\"\"Here is searching for *? but they are regex's it will consider them as \u001b[39;00m\n\u001b[0;32m      3\u001b[0m \u001b[38;5;124;03mregex's only not like a string to search for in the given txt\"\"\"\u001b[39;00m\n\u001b[0;32m      4\u001b[0m txt\u001b[38;5;241m=\u001b[39m \u001b[38;5;124m\"\u001b[39m\u001b[38;5;124mThis line has *?. \u001b[39m\u001b[38;5;130;01m\\n\u001b[39;00m\u001b[38;5;124mThis line also has *?.\u001b[39m\u001b[38;5;124m\"\u001b[39m\n\u001b[1;32m----> 5\u001b[0m x\u001b[38;5;241m=\u001b[39m \u001b[43mre\u001b[49m\u001b[38;5;241;43m.\u001b[39;49m\u001b[43mfinditer\u001b[49m\u001b[43m(\u001b[49m\u001b[38;5;124;43m\"\u001b[39;49m\u001b[38;5;124;43m*?\u001b[39;49m\u001b[38;5;124;43m\"\u001b[39;49m\u001b[43m,\u001b[49m\u001b[43mtxt\u001b[49m\u001b[43m)\u001b[49m\n\u001b[0;32m      6\u001b[0m \u001b[38;5;28;01mfor\u001b[39;00m i,m \u001b[38;5;129;01min\u001b[39;00m \u001b[38;5;28menumerate\u001b[39m(x):\n\u001b[0;32m      7\u001b[0m     \u001b[38;5;28mprint\u001b[39m(i)\n",
      "File \u001b[1;32m~\\AppData\\Local\\Programs\\Python\\Python311\\Lib\\re\\__init__.py:223\u001b[0m, in \u001b[0;36mfinditer\u001b[1;34m(pattern, string, flags)\u001b[0m\n\u001b[0;32m    218\u001b[0m \u001b[38;5;28;01mdef\u001b[39;00m \u001b[38;5;21mfinditer\u001b[39m(pattern, string, flags\u001b[38;5;241m=\u001b[39m\u001b[38;5;241m0\u001b[39m):\n\u001b[0;32m    219\u001b[0m \u001b[38;5;250m    \u001b[39m\u001b[38;5;124;03m\"\"\"Return an iterator over all non-overlapping matches in the\u001b[39;00m\n\u001b[0;32m    220\u001b[0m \u001b[38;5;124;03m    string.  For each match, the iterator returns a Match object.\u001b[39;00m\n\u001b[0;32m    221\u001b[0m \n\u001b[0;32m    222\u001b[0m \u001b[38;5;124;03m    Empty matches are included in the result.\"\"\"\u001b[39;00m\n\u001b[1;32m--> 223\u001b[0m     \u001b[38;5;28;01mreturn\u001b[39;00m \u001b[43m_compile\u001b[49m\u001b[43m(\u001b[49m\u001b[43mpattern\u001b[49m\u001b[43m,\u001b[49m\u001b[43m \u001b[49m\u001b[43mflags\u001b[49m\u001b[43m)\u001b[49m\u001b[38;5;241m.\u001b[39mfinditer(string)\n",
      "File \u001b[1;32m~\\AppData\\Local\\Programs\\Python\\Python311\\Lib\\re\\__init__.py:294\u001b[0m, in \u001b[0;36m_compile\u001b[1;34m(pattern, flags)\u001b[0m\n\u001b[0;32m    288\u001b[0m     \u001b[38;5;28;01mimport\u001b[39;00m \u001b[38;5;21;01mwarnings\u001b[39;00m\n\u001b[0;32m    289\u001b[0m     warnings\u001b[38;5;241m.\u001b[39mwarn(\u001b[38;5;124m\"\u001b[39m\u001b[38;5;124mThe re.TEMPLATE/re.T flag is deprecated \u001b[39m\u001b[38;5;124m\"\u001b[39m\n\u001b[0;32m    290\u001b[0m               \u001b[38;5;124m\"\u001b[39m\u001b[38;5;124mas it is an undocumented flag \u001b[39m\u001b[38;5;124m\"\u001b[39m\n\u001b[0;32m    291\u001b[0m               \u001b[38;5;124m\"\u001b[39m\u001b[38;5;124mwithout an obvious purpose. \u001b[39m\u001b[38;5;124m\"\u001b[39m\n\u001b[0;32m    292\u001b[0m               \u001b[38;5;124m\"\u001b[39m\u001b[38;5;124mDon\u001b[39m\u001b[38;5;124m'\u001b[39m\u001b[38;5;124mt use it.\u001b[39m\u001b[38;5;124m\"\u001b[39m,\n\u001b[0;32m    293\u001b[0m               \u001b[38;5;167;01mDeprecationWarning\u001b[39;00m)\n\u001b[1;32m--> 294\u001b[0m p \u001b[38;5;241m=\u001b[39m \u001b[43m_compiler\u001b[49m\u001b[38;5;241;43m.\u001b[39;49m\u001b[43mcompile\u001b[49m\u001b[43m(\u001b[49m\u001b[43mpattern\u001b[49m\u001b[43m,\u001b[49m\u001b[43m \u001b[49m\u001b[43mflags\u001b[49m\u001b[43m)\u001b[49m\n\u001b[0;32m    295\u001b[0m \u001b[38;5;28;01mif\u001b[39;00m \u001b[38;5;129;01mnot\u001b[39;00m (flags \u001b[38;5;241m&\u001b[39m DEBUG):\n\u001b[0;32m    296\u001b[0m     \u001b[38;5;28;01mif\u001b[39;00m \u001b[38;5;28mlen\u001b[39m(_cache) \u001b[38;5;241m>\u001b[39m\u001b[38;5;241m=\u001b[39m _MAXCACHE:\n\u001b[0;32m    297\u001b[0m         \u001b[38;5;66;03m# Drop the oldest item\u001b[39;00m\n",
      "File \u001b[1;32m~\\AppData\\Local\\Programs\\Python\\Python311\\Lib\\re\\_compiler.py:743\u001b[0m, in \u001b[0;36mcompile\u001b[1;34m(p, flags)\u001b[0m\n\u001b[0;32m    741\u001b[0m \u001b[38;5;28;01mif\u001b[39;00m isstring(p):\n\u001b[0;32m    742\u001b[0m     pattern \u001b[38;5;241m=\u001b[39m p\n\u001b[1;32m--> 743\u001b[0m     p \u001b[38;5;241m=\u001b[39m \u001b[43m_parser\u001b[49m\u001b[38;5;241;43m.\u001b[39;49m\u001b[43mparse\u001b[49m\u001b[43m(\u001b[49m\u001b[43mp\u001b[49m\u001b[43m,\u001b[49m\u001b[43m \u001b[49m\u001b[43mflags\u001b[49m\u001b[43m)\u001b[49m\n\u001b[0;32m    744\u001b[0m \u001b[38;5;28;01melse\u001b[39;00m:\n\u001b[0;32m    745\u001b[0m     pattern \u001b[38;5;241m=\u001b[39m \u001b[38;5;28;01mNone\u001b[39;00m\n",
      "File \u001b[1;32m~\\AppData\\Local\\Programs\\Python\\Python311\\Lib\\re\\_parser.py:980\u001b[0m, in \u001b[0;36mparse\u001b[1;34m(str, flags, state)\u001b[0m\n\u001b[0;32m    977\u001b[0m state\u001b[38;5;241m.\u001b[39mflags \u001b[38;5;241m=\u001b[39m flags\n\u001b[0;32m    978\u001b[0m state\u001b[38;5;241m.\u001b[39mstr \u001b[38;5;241m=\u001b[39m \u001b[38;5;28mstr\u001b[39m\n\u001b[1;32m--> 980\u001b[0m p \u001b[38;5;241m=\u001b[39m \u001b[43m_parse_sub\u001b[49m\u001b[43m(\u001b[49m\u001b[43msource\u001b[49m\u001b[43m,\u001b[49m\u001b[43m \u001b[49m\u001b[43mstate\u001b[49m\u001b[43m,\u001b[49m\u001b[43m \u001b[49m\u001b[43mflags\u001b[49m\u001b[43m \u001b[49m\u001b[38;5;241;43m&\u001b[39;49m\u001b[43m \u001b[49m\u001b[43mSRE_FLAG_VERBOSE\u001b[49m\u001b[43m,\u001b[49m\u001b[43m \u001b[49m\u001b[38;5;241;43m0\u001b[39;49m\u001b[43m)\u001b[49m\n\u001b[0;32m    981\u001b[0m p\u001b[38;5;241m.\u001b[39mstate\u001b[38;5;241m.\u001b[39mflags \u001b[38;5;241m=\u001b[39m fix_flags(\u001b[38;5;28mstr\u001b[39m, p\u001b[38;5;241m.\u001b[39mstate\u001b[38;5;241m.\u001b[39mflags)\n\u001b[0;32m    983\u001b[0m \u001b[38;5;28;01mif\u001b[39;00m source\u001b[38;5;241m.\u001b[39mnext \u001b[38;5;129;01mis\u001b[39;00m \u001b[38;5;129;01mnot\u001b[39;00m \u001b[38;5;28;01mNone\u001b[39;00m:\n",
      "File \u001b[1;32m~\\AppData\\Local\\Programs\\Python\\Python311\\Lib\\re\\_parser.py:455\u001b[0m, in \u001b[0;36m_parse_sub\u001b[1;34m(source, state, verbose, nested)\u001b[0m\n\u001b[0;32m    453\u001b[0m start \u001b[38;5;241m=\u001b[39m source\u001b[38;5;241m.\u001b[39mtell()\n\u001b[0;32m    454\u001b[0m \u001b[38;5;28;01mwhile\u001b[39;00m \u001b[38;5;28;01mTrue\u001b[39;00m:\n\u001b[1;32m--> 455\u001b[0m     itemsappend(\u001b[43m_parse\u001b[49m\u001b[43m(\u001b[49m\u001b[43msource\u001b[49m\u001b[43m,\u001b[49m\u001b[43m \u001b[49m\u001b[43mstate\u001b[49m\u001b[43m,\u001b[49m\u001b[43m \u001b[49m\u001b[43mverbose\u001b[49m\u001b[43m,\u001b[49m\u001b[43m \u001b[49m\u001b[43mnested\u001b[49m\u001b[43m \u001b[49m\u001b[38;5;241;43m+\u001b[39;49m\u001b[43m \u001b[49m\u001b[38;5;241;43m1\u001b[39;49m\u001b[43m,\u001b[49m\n\u001b[0;32m    456\u001b[0m \u001b[43m                       \u001b[49m\u001b[38;5;129;43;01mnot\u001b[39;49;00m\u001b[43m \u001b[49m\u001b[43mnested\u001b[49m\u001b[43m \u001b[49m\u001b[38;5;129;43;01mand\u001b[39;49;00m\u001b[43m \u001b[49m\u001b[38;5;129;43;01mnot\u001b[39;49;00m\u001b[43m \u001b[49m\u001b[43mitems\u001b[49m\u001b[43m)\u001b[49m)\n\u001b[0;32m    457\u001b[0m     \u001b[38;5;28;01mif\u001b[39;00m \u001b[38;5;129;01mnot\u001b[39;00m sourcematch(\u001b[38;5;124m\"\u001b[39m\u001b[38;5;124m|\u001b[39m\u001b[38;5;124m\"\u001b[39m):\n\u001b[0;32m    458\u001b[0m         \u001b[38;5;28;01mbreak\u001b[39;00m\n",
      "File \u001b[1;32m~\\AppData\\Local\\Programs\\Python\\Python311\\Lib\\re\\_parser.py:682\u001b[0m, in \u001b[0;36m_parse\u001b[1;34m(source, state, verbose, nested, first)\u001b[0m\n\u001b[0;32m    680\u001b[0m     item \u001b[38;5;241m=\u001b[39m \u001b[38;5;28;01mNone\u001b[39;00m\n\u001b[0;32m    681\u001b[0m \u001b[38;5;28;01mif\u001b[39;00m \u001b[38;5;129;01mnot\u001b[39;00m item \u001b[38;5;129;01mor\u001b[39;00m item[\u001b[38;5;241m0\u001b[39m][\u001b[38;5;241m0\u001b[39m] \u001b[38;5;129;01mis\u001b[39;00m AT:\n\u001b[1;32m--> 682\u001b[0m     \u001b[38;5;28;01mraise\u001b[39;00m source\u001b[38;5;241m.\u001b[39merror(\u001b[38;5;124m\"\u001b[39m\u001b[38;5;124mnothing to repeat\u001b[39m\u001b[38;5;124m\"\u001b[39m,\n\u001b[0;32m    683\u001b[0m                        source\u001b[38;5;241m.\u001b[39mtell() \u001b[38;5;241m-\u001b[39m here \u001b[38;5;241m+\u001b[39m \u001b[38;5;28mlen\u001b[39m(this))\n\u001b[0;32m    684\u001b[0m \u001b[38;5;28;01mif\u001b[39;00m item[\u001b[38;5;241m0\u001b[39m][\u001b[38;5;241m0\u001b[39m] \u001b[38;5;129;01min\u001b[39;00m _REPEATCODES:\n\u001b[0;32m    685\u001b[0m     \u001b[38;5;28;01mraise\u001b[39;00m source\u001b[38;5;241m.\u001b[39merror(\u001b[38;5;124m\"\u001b[39m\u001b[38;5;124mmultiple repeat\u001b[39m\u001b[38;5;124m\"\u001b[39m,\n\u001b[0;32m    686\u001b[0m                        source\u001b[38;5;241m.\u001b[39mtell() \u001b[38;5;241m-\u001b[39m here \u001b[38;5;241m+\u001b[39m \u001b[38;5;28mlen\u001b[39m(this))\n",
      "\u001b[1;31merror\u001b[0m: nothing to repeat at position 0"
     ]
    }
   ],
   "source": [
    "#Find all instances of *?.\n",
    "\"\"\"Here is searching for *? but they are regex's it will consider them as \n",
    "regex's only not like a string to search for in the given txt\"\"\"\n",
    "txt= \"This line has *?. \\nThis line also has *?.\"\n",
    "x= re.finditer(\"*?\",txt)\n",
    "for i,m in enumerate(x):\n",
    "    print(i)\n",
    "    result(m)"
   ]
  },
  {
   "cell_type": "code",
   "execution_count": 82,
   "id": "81ee5fce",
   "metadata": {},
   "outputs": [
    {
     "name": "stdout",
     "output_type": "stream",
     "text": [
      "0\n",
      "This line has \u001b[95m*?\u001b[39m. \n",
      "This line also has *?.\n",
      "1\n",
      "This line has *?. \n",
      "This line also has \u001b[95m*?\u001b[39m.\n"
     ]
    }
   ],
   "source": [
    "#Find all instances of *?.\n",
    "\"\"\"Here it is searching for *?  BUt it was taken as\\*\\? to follow the python syntax\"\"\"\n",
    "txt= \"This line has *?. \\nThis line also has *?.\"\n",
    "x= re.finditer(\"\\*\\?\",txt)\n",
    "for i,m in enumerate(x):\n",
    "    print(i)\n",
    "    result(m)"
   ]
  },
  {
   "cell_type": "code",
   "execution_count": 85,
   "id": "1eb2139c",
   "metadata": {},
   "outputs": [
    {
     "name": "stdout",
     "output_type": "stream",
     "text": [
      "0\n",
      "The Cheetah is faster than \u001b[95mthe\u001b[39m other animals. \n",
      "The article in English is the.\n",
      "1\n",
      "The Cheetah is faster than the o\u001b[95mthe\u001b[39mr animals. \n",
      "The article in English is the.\n",
      "2\n",
      "The Cheetah is faster than the other animals. \n",
      "The article in English is \u001b[95mthe\u001b[39m.\n"
     ]
    }
   ],
   "source": [
    "#Find all instances of the English article \"the\".\n",
    "txt= \"The Cheetah is faster than the other animals. \\nThe article in English is the.\"\n",
    "x= re.finditer(\"the\",txt)\n",
    "for i,m in enumerate(x):\n",
    "    print(i)\n",
    "    result(m)"
   ]
  },
  {
   "cell_type": "code",
   "execution_count": 87,
   "id": "7924d9b7",
   "metadata": {},
   "outputs": [
    {
     "name": "stdout",
     "output_type": "stream",
     "text": [
      "0\n",
      "\u001b[95mThe\u001b[39m Cheetah is faster than the other animals. \n",
      "The article in English is the.\n",
      "1\n",
      "The Cheetah is faster than \u001b[95mthe\u001b[39m other animals. \n",
      "The article in English is the.\n",
      "2\n",
      "The Cheetah is faster than the o\u001b[95mthe\u001b[39mr animals. \n",
      "The article in English is the.\n",
      "3\n",
      "The Cheetah is faster than the other animals. \n",
      "\u001b[95mThe\u001b[39m article in English is the.\n",
      "4\n",
      "The Cheetah is faster than the other animals. \n",
      "The article in English is \u001b[95mthe\u001b[39m.\n"
     ]
    }
   ],
   "source": [
    "#Find all instances of the English article \"the\".\n",
    "txt= \"The Cheetah is faster than the other animals. \\nThe article in English is the.\"\n",
    "x= re.finditer(\"[tT]he\",txt)\n",
    "for i,m in enumerate(x):\n",
    "    print(i)\n",
    "    result(m)"
   ]
  },
  {
   "cell_type": "code",
   "execution_count": 92,
   "id": "db63589c",
   "metadata": {},
   "outputs": [
    {
     "name": "stdout",
     "output_type": "stream",
     "text": [
      "0\n",
      "\u001b[95mThe\u001b[39m Cheetah is faster than the other animals. \n",
      "The article in English is the.\n",
      "1\n",
      "The Cheetah is faster than \u001b[95mthe\u001b[39m other animals. \n",
      "The article in English is the.\n",
      "2\n",
      "The Cheetah is faster than the other animals. \n",
      "\u001b[95mThe\u001b[39m article in English is the.\n",
      "3\n",
      "The Cheetah is faster than the other animals. \n",
      "The article in English is \u001b[95mthe\u001b[39m.\n"
     ]
    }
   ],
   "source": [
    "#Find all instances of the English article \"the\".\n",
    "txt= \"The Cheetah is faster than the other animals. \\nThe article in English is the.\"\n",
    "x= re.finditer(\"\\\\b[tT]he\\\\b\",txt)\n",
    "for i,m in enumerate(x):\n",
    "    print(i)\n",
    "    result(m)"
   ]
  },
  {
   "cell_type": "code",
   "execution_count": 93,
   "id": "2ffaa35d",
   "metadata": {},
   "outputs": [
    {
     "name": "stdout",
     "output_type": "stream",
     "text": [
      "0\n",
      "The Cheetah is faster than\u001b[95m the\u001b[39m other animals. \n",
      "The article in English is the. \n",
      " What is there?\n",
      "1\n",
      "The Cheetah is faster than the other animals. \u001b[95m\n",
      "The\u001b[39m article in English is the. \n",
      " What is there?\n",
      "2\n",
      "The Cheetah is faster than the other animals. \n",
      "The article in English is\u001b[95m the\u001b[39m. \n",
      " What is there?\n",
      "3\n",
      "The Cheetah is faster than the other animals. \n",
      "The article in English is the. \n",
      " What is\u001b[95m the\u001b[39mre?\n"
     ]
    }
   ],
   "source": [
    "#Find all instances of the English article \"the\" without \\b\n",
    "txt= \"The Cheetah is faster than the other animals. \\nThe article in English is the. \\n What is there?\"\n",
    "x= re.finditer(\"[^a-zA-Z][tT]he\",txt)\n",
    "for i,m in enumerate(x):\n",
    "    print(i)\n",
    "    result(m)"
   ]
  },
  {
   "cell_type": "code",
   "execution_count": 94,
   "id": "234a6371",
   "metadata": {},
   "outputs": [
    {
     "name": "stdout",
     "output_type": "stream",
     "text": [
      "0\n",
      "The Cheetah is faster than\u001b[95m the \u001b[39mother animals. \n",
      "The article in English is the. \n",
      " What is there?\n",
      "1\n",
      "The Cheetah is faster than the other animals. \u001b[95m\n",
      "The \u001b[39marticle in English is the. \n",
      " What is there?\n",
      "2\n",
      "The Cheetah is faster than the other animals. \n",
      "The article in English is\u001b[95m the.\u001b[39m \n",
      " What is there?\n"
     ]
    }
   ],
   "source": [
    "#Find all instances of the English article \"the\" without \\b\n",
    "txt= \"The Cheetah is faster than the other animals. \\nThe article in English is the. \\n What is there?\"\n",
    "x= re.finditer(\"[^a-zA-Z][tT]he[^a-zA-Z]\",txt)\n",
    "for i,m in enumerate(x):\n",
    "    print(i)\n",
    "    result(m)"
   ]
  },
  {
   "cell_type": "code",
   "execution_count": 96,
   "id": "a663abe2",
   "metadata": {},
   "outputs": [
    {
     "name": "stdout",
     "output_type": "stream",
     "text": [
      "0\n",
      "\u001b[95mThe \u001b[39mCheetah is faster than the other animals. \n",
      "The article in English is the. \n",
      " What is there?\n",
      "1\n",
      "The Cheetah is faster than\u001b[95m the \u001b[39mother animals. \n",
      "The article in English is the. \n",
      " What is there?\n",
      "2\n",
      "The Cheetah is faster than the other animals. \u001b[95m\n",
      "The \u001b[39marticle in English is the. \n",
      " What is there?\n",
      "3\n",
      "The Cheetah is faster than the other animals. \n",
      "The article in English is\u001b[95m the.\u001b[39m \n",
      " What is there?\n"
     ]
    }
   ],
   "source": [
    "#Find all instances of the English article \"the\" without \\b\n",
    "txt= \"The Cheetah is faster than the other animals. \\nThe article in English is the. \\n What is there?\"\n",
    "x= re.finditer(\"(^|[^a-zA-Z])[tT]he[^a-zA-Z]\",txt)\n",
    "for i,m in enumerate(x):\n",
    "    print(i)\n",
    "    result(m)\n",
    "#We can observe the . in red! \n",
    "\"\"\"This is because we are putting condition only for the alphabets(both in \n",
    "upper and lower case) but not the special characters\"\"\""
   ]
  },
  {
   "cell_type": "code",
   "execution_count": 100,
   "id": "45a06ab5",
   "metadata": {},
   "outputs": [
    {
     "name": "stdout",
     "output_type": "stream",
     "text": [
      "0\n",
      "\u001b[95mThe \u001b[39mCheetah is faster than$the$other animals. \n",
      "The article in English is$the$\n",
      " What is there?\n",
      "1\n",
      "The Cheetah is faster than\u001b[95m$the$\u001b[39mother animals. \n",
      "The article in English is$the$\n",
      " What is there?\n",
      "2\n",
      "The Cheetah is faster than$the$other animals. \u001b[95m\n",
      "The \u001b[39marticle in English is$the$\n",
      " What is there?\n",
      "3\n",
      "The Cheetah is faster than$the$other animals. \n",
      "The article in English is\u001b[95m$the$\u001b[39m\n",
      " What is there?\n"
     ]
    }
   ],
   "source": [
    "#Find all instances of the English article \"the\" without \\b\n",
    "    \n",
    "\"\"\"This is because we are putting condition only for the alphabets(both in \n",
    "upper and lower case) but not the special characters\"\"\"\n",
    "\n",
    "txt= \"The Cheetah is faster than$the$other animals. \\nThe article in English is$the$\\n What is there?\"\n",
    "x= re.finditer(\"(^|[^a-zA-Z])[tT]he[^a-zA-Z]\",txt)\n",
    "for i,m in enumerate(x):\n",
    "    print(i)\n",
    "    result(m)\n"
   ]
  },
  {
   "cell_type": "code",
   "execution_count": 103,
   "id": "61cb20ff",
   "metadata": {},
   "outputs": [
    {
     "name": "stdout",
     "output_type": "stream",
     "text": [
      "0\n",
      "\u001b[95mThe \u001b[39mCheetah is faster than the other animals. \n",
      "The article in English is the\n",
      "1\n",
      "The Cheetah is faster than\u001b[95m the \u001b[39mother animals. \n",
      "The article in English is the\n",
      "2\n",
      "The Cheetah is faster than the other animals. \u001b[95m\n",
      "The \u001b[39marticle in English is the\n"
     ]
    }
   ],
   "source": [
    "#Find all instances of the English article \"the\" without \\b\n",
    "\n",
    "    \n",
    "\"\"\"Here we can observe that it is not finding the last 'the' in the txt.\n",
    "Because it is not having any space to consider\"\"\"\n",
    "\n",
    "txt= \"The Cheetah is faster than the other animals. \\nThe article in English is the\"\n",
    "x= re.finditer(\"(^|[^a-zA-Z])[tT]he[^a-zA-Z]\",txt)\n",
    "for i,m in enumerate(x):\n",
    "    print(i)\n",
    "    result(m)\n",
    "    \n"
   ]
  },
  {
   "cell_type": "code",
   "execution_count": 104,
   "id": "f9c85de9",
   "metadata": {},
   "outputs": [
    {
     "name": "stdout",
     "output_type": "stream",
     "text": [
      "0\n",
      "\u001b[95mThe \u001b[39mCheetah is faster than the other animals. \n",
      "The article in English is the\n",
      "1\n",
      "The Cheetah is faster than\u001b[95m the \u001b[39mother animals. \n",
      "The article in English is the\n",
      "2\n",
      "The Cheetah is faster than the other animals. \u001b[95m\n",
      "The \u001b[39marticle in English is the\n",
      "3\n",
      "The Cheetah is faster than the other animals. \n",
      "The article in English is\u001b[95m the\u001b[39m\n"
     ]
    }
   ],
   "source": [
    "#Find all instances of the English article \"the\" without \\b\n",
    "txt= \"The Cheetah is faster than the other animals. \\nThe article in English is the\"\n",
    "x= re.finditer(\"(^|[^a-zA-Z])[tT]he([^a-zA-Z]|$)\",txt)\n",
    "for i,m in enumerate(x):\n",
    "    print(i)\n",
    "    result(m)"
   ]
  },
  {
   "cell_type": "code",
   "execution_count": 106,
   "id": "d6c845ea",
   "metadata": {},
   "outputs": [
    {
     "name": "stdout",
     "output_type": "stream",
     "text": [
      "0\n",
      "Price of macbook is \u001b[95m$25.34\u001b[39m\n",
      "Dell laptops at $199.99 is for sale!\n",
      "Lenovo laptops starting from $150 in July, 2023.\n",
      "1\n",
      "Price of macbook is $25.34\n",
      "Dell laptops at \u001b[95m$199.99\u001b[39m is for sale!\n",
      "Lenovo laptops starting from $150 in July, 2023.\n"
     ]
    }
   ],
   "source": [
    "\n",
    "\"\"\"Here we are searching for $ followed by minimum 1 and maximum 3 digits \n",
    "followed by a '.' and then followed by two digits\"\"\"\n",
    "\n",
    "txt= \"Price of macbook is $25.34\\nDell laptops at $199.99 is for sale!\\nLenovo laptops starting from $150 in July, 2023.\"\n",
    "x= re.finditer(\"\\$[0-9]{1,3}\\.[0-9][0-9]\",txt)\n",
    "for i,m in enumerate(x):\n",
    "    print(i)\n",
    "    result(m)"
   ]
  },
  {
   "cell_type": "code",
   "execution_count": 108,
   "id": "47d34b94",
   "metadata": {},
   "outputs": [
    {
     "name": "stdout",
     "output_type": "stream",
     "text": [
      "0\n",
      "Price of macbook is \u001b[95m$25.34\u001b[39m\n",
      "Dell laptops at $199.99 is for sale!\n",
      "Lenovo laptops starting from $150 in July, 2023.\n",
      "1\n",
      "Price of macbook is $25.34\n",
      "Dell laptops at \u001b[95m$199.99\u001b[39m is for sale!\n",
      "Lenovo laptops starting from $150 in July, 2023.\n",
      "2\n",
      "Price of macbook is $25.34\n",
      "Dell laptops at $199.99 is for sale!\n",
      "Lenovo laptops starting from \u001b[95m$150\u001b[39m in July, 2023.\n"
     ]
    }
   ],
   "source": [
    "\n",
    "\"\"\"It is searching for $ followed by a min 1 and max 3 digits and other is optional\"\"\"\n",
    "\n",
    "txt= \"Price of macbook is $25.34\\nDell laptops at $199.99 is for sale!\\nLenovo laptops starting from $150 in July, 2023.\"\n",
    "x= re.finditer(\"\\$[0-9]{1,3}(\\.[0-9][0-9])?\",txt)\n",
    "for i,m in enumerate(x):\n",
    "    print(i)\n",
    "    result(m)"
   ]
  },
  {
   "cell_type": "code",
   "execution_count": 110,
   "id": "c69f1622",
   "metadata": {},
   "outputs": [
    {
     "ename": "error",
     "evalue": "unterminated character set at position 7",
     "output_type": "error",
     "traceback": [
      "\u001b[1;31m---------------------------------------------------------------------------\u001b[0m",
      "\u001b[1;31merror\u001b[0m                                     Traceback (most recent call last)",
      "Cell \u001b[1;32mIn[110], line 5\u001b[0m\n\u001b[0;32m      1\u001b[0m \u001b[38;5;66;03m#Help a user buy a computer as follows:\u001b[39;00m\n\u001b[0;32m      2\u001b[0m \u001b[38;5;66;03m#any machine with at least 6 GHz and 500 GB Hard disk space for less than $1000\u001b[39;00m\n\u001b[0;32m      3\u001b[0m \u001b[38;5;66;03m#We will look out for hard disk space of number followed by GB\u001b[39;00m\n\u001b[0;32m      4\u001b[0m txt\u001b[38;5;241m=\u001b[39m \u001b[38;5;124m\"\u001b[39m\u001b[38;5;124mHard disk size of 225GB at $300\u001b[39m\u001b[38;5;130;01m\\n\u001b[39;00m\u001b[38;5;124mHard disk size of 545    GB at $500 is for sale!\u001b[39m\u001b[38;5;130;01m\\n\u001b[39;00m\u001b[38;5;124m\"\u001b[39m\n\u001b[1;32m----> 5\u001b[0m x\u001b[38;5;241m=\u001b[39m \u001b[43mre\u001b[49m\u001b[38;5;241;43m.\u001b[39;49m\u001b[43mfinditer\u001b[49m\u001b[43m(\u001b[49m\u001b[38;5;124;43m\"\u001b[39;49m\u001b[38;5;130;43;01m\\\\\u001b[39;49;00m\u001b[38;5;124;43mb[1-9][] *GB\u001b[39;49m\u001b[38;5;124;43m\"\u001b[39;49m\u001b[43m,\u001b[49m\u001b[43mtxt\u001b[49m\u001b[43m)\u001b[49m\n\u001b[0;32m      6\u001b[0m \u001b[38;5;28;01mfor\u001b[39;00m i,m \u001b[38;5;129;01min\u001b[39;00m \u001b[38;5;28menumerate\u001b[39m(x):\n\u001b[0;32m      7\u001b[0m     \u001b[38;5;28mprint\u001b[39m(i)\n",
      "File \u001b[1;32m~\\AppData\\Local\\Programs\\Python\\Python311\\Lib\\re\\__init__.py:223\u001b[0m, in \u001b[0;36mfinditer\u001b[1;34m(pattern, string, flags)\u001b[0m\n\u001b[0;32m    218\u001b[0m \u001b[38;5;28;01mdef\u001b[39;00m \u001b[38;5;21mfinditer\u001b[39m(pattern, string, flags\u001b[38;5;241m=\u001b[39m\u001b[38;5;241m0\u001b[39m):\n\u001b[0;32m    219\u001b[0m \u001b[38;5;250m    \u001b[39m\u001b[38;5;124;03m\"\"\"Return an iterator over all non-overlapping matches in the\u001b[39;00m\n\u001b[0;32m    220\u001b[0m \u001b[38;5;124;03m    string.  For each match, the iterator returns a Match object.\u001b[39;00m\n\u001b[0;32m    221\u001b[0m \n\u001b[0;32m    222\u001b[0m \u001b[38;5;124;03m    Empty matches are included in the result.\"\"\"\u001b[39;00m\n\u001b[1;32m--> 223\u001b[0m     \u001b[38;5;28;01mreturn\u001b[39;00m \u001b[43m_compile\u001b[49m\u001b[43m(\u001b[49m\u001b[43mpattern\u001b[49m\u001b[43m,\u001b[49m\u001b[43m \u001b[49m\u001b[43mflags\u001b[49m\u001b[43m)\u001b[49m\u001b[38;5;241m.\u001b[39mfinditer(string)\n",
      "File \u001b[1;32m~\\AppData\\Local\\Programs\\Python\\Python311\\Lib\\re\\__init__.py:294\u001b[0m, in \u001b[0;36m_compile\u001b[1;34m(pattern, flags)\u001b[0m\n\u001b[0;32m    288\u001b[0m     \u001b[38;5;28;01mimport\u001b[39;00m \u001b[38;5;21;01mwarnings\u001b[39;00m\n\u001b[0;32m    289\u001b[0m     warnings\u001b[38;5;241m.\u001b[39mwarn(\u001b[38;5;124m\"\u001b[39m\u001b[38;5;124mThe re.TEMPLATE/re.T flag is deprecated \u001b[39m\u001b[38;5;124m\"\u001b[39m\n\u001b[0;32m    290\u001b[0m               \u001b[38;5;124m\"\u001b[39m\u001b[38;5;124mas it is an undocumented flag \u001b[39m\u001b[38;5;124m\"\u001b[39m\n\u001b[0;32m    291\u001b[0m               \u001b[38;5;124m\"\u001b[39m\u001b[38;5;124mwithout an obvious purpose. \u001b[39m\u001b[38;5;124m\"\u001b[39m\n\u001b[0;32m    292\u001b[0m               \u001b[38;5;124m\"\u001b[39m\u001b[38;5;124mDon\u001b[39m\u001b[38;5;124m'\u001b[39m\u001b[38;5;124mt use it.\u001b[39m\u001b[38;5;124m\"\u001b[39m,\n\u001b[0;32m    293\u001b[0m               \u001b[38;5;167;01mDeprecationWarning\u001b[39;00m)\n\u001b[1;32m--> 294\u001b[0m p \u001b[38;5;241m=\u001b[39m \u001b[43m_compiler\u001b[49m\u001b[38;5;241;43m.\u001b[39;49m\u001b[43mcompile\u001b[49m\u001b[43m(\u001b[49m\u001b[43mpattern\u001b[49m\u001b[43m,\u001b[49m\u001b[43m \u001b[49m\u001b[43mflags\u001b[49m\u001b[43m)\u001b[49m\n\u001b[0;32m    295\u001b[0m \u001b[38;5;28;01mif\u001b[39;00m \u001b[38;5;129;01mnot\u001b[39;00m (flags \u001b[38;5;241m&\u001b[39m DEBUG):\n\u001b[0;32m    296\u001b[0m     \u001b[38;5;28;01mif\u001b[39;00m \u001b[38;5;28mlen\u001b[39m(_cache) \u001b[38;5;241m>\u001b[39m\u001b[38;5;241m=\u001b[39m _MAXCACHE:\n\u001b[0;32m    297\u001b[0m         \u001b[38;5;66;03m# Drop the oldest item\u001b[39;00m\n",
      "File \u001b[1;32m~\\AppData\\Local\\Programs\\Python\\Python311\\Lib\\re\\_compiler.py:743\u001b[0m, in \u001b[0;36mcompile\u001b[1;34m(p, flags)\u001b[0m\n\u001b[0;32m    741\u001b[0m \u001b[38;5;28;01mif\u001b[39;00m isstring(p):\n\u001b[0;32m    742\u001b[0m     pattern \u001b[38;5;241m=\u001b[39m p\n\u001b[1;32m--> 743\u001b[0m     p \u001b[38;5;241m=\u001b[39m \u001b[43m_parser\u001b[49m\u001b[38;5;241;43m.\u001b[39;49m\u001b[43mparse\u001b[49m\u001b[43m(\u001b[49m\u001b[43mp\u001b[49m\u001b[43m,\u001b[49m\u001b[43m \u001b[49m\u001b[43mflags\u001b[49m\u001b[43m)\u001b[49m\n\u001b[0;32m    744\u001b[0m \u001b[38;5;28;01melse\u001b[39;00m:\n\u001b[0;32m    745\u001b[0m     pattern \u001b[38;5;241m=\u001b[39m \u001b[38;5;28;01mNone\u001b[39;00m\n",
      "File \u001b[1;32m~\\AppData\\Local\\Programs\\Python\\Python311\\Lib\\re\\_parser.py:980\u001b[0m, in \u001b[0;36mparse\u001b[1;34m(str, flags, state)\u001b[0m\n\u001b[0;32m    977\u001b[0m state\u001b[38;5;241m.\u001b[39mflags \u001b[38;5;241m=\u001b[39m flags\n\u001b[0;32m    978\u001b[0m state\u001b[38;5;241m.\u001b[39mstr \u001b[38;5;241m=\u001b[39m \u001b[38;5;28mstr\u001b[39m\n\u001b[1;32m--> 980\u001b[0m p \u001b[38;5;241m=\u001b[39m \u001b[43m_parse_sub\u001b[49m\u001b[43m(\u001b[49m\u001b[43msource\u001b[49m\u001b[43m,\u001b[49m\u001b[43m \u001b[49m\u001b[43mstate\u001b[49m\u001b[43m,\u001b[49m\u001b[43m \u001b[49m\u001b[43mflags\u001b[49m\u001b[43m \u001b[49m\u001b[38;5;241;43m&\u001b[39;49m\u001b[43m \u001b[49m\u001b[43mSRE_FLAG_VERBOSE\u001b[49m\u001b[43m,\u001b[49m\u001b[43m \u001b[49m\u001b[38;5;241;43m0\u001b[39;49m\u001b[43m)\u001b[49m\n\u001b[0;32m    981\u001b[0m p\u001b[38;5;241m.\u001b[39mstate\u001b[38;5;241m.\u001b[39mflags \u001b[38;5;241m=\u001b[39m fix_flags(\u001b[38;5;28mstr\u001b[39m, p\u001b[38;5;241m.\u001b[39mstate\u001b[38;5;241m.\u001b[39mflags)\n\u001b[0;32m    983\u001b[0m \u001b[38;5;28;01mif\u001b[39;00m source\u001b[38;5;241m.\u001b[39mnext \u001b[38;5;129;01mis\u001b[39;00m \u001b[38;5;129;01mnot\u001b[39;00m \u001b[38;5;28;01mNone\u001b[39;00m:\n",
      "File \u001b[1;32m~\\AppData\\Local\\Programs\\Python\\Python311\\Lib\\re\\_parser.py:455\u001b[0m, in \u001b[0;36m_parse_sub\u001b[1;34m(source, state, verbose, nested)\u001b[0m\n\u001b[0;32m    453\u001b[0m start \u001b[38;5;241m=\u001b[39m source\u001b[38;5;241m.\u001b[39mtell()\n\u001b[0;32m    454\u001b[0m \u001b[38;5;28;01mwhile\u001b[39;00m \u001b[38;5;28;01mTrue\u001b[39;00m:\n\u001b[1;32m--> 455\u001b[0m     itemsappend(\u001b[43m_parse\u001b[49m\u001b[43m(\u001b[49m\u001b[43msource\u001b[49m\u001b[43m,\u001b[49m\u001b[43m \u001b[49m\u001b[43mstate\u001b[49m\u001b[43m,\u001b[49m\u001b[43m \u001b[49m\u001b[43mverbose\u001b[49m\u001b[43m,\u001b[49m\u001b[43m \u001b[49m\u001b[43mnested\u001b[49m\u001b[43m \u001b[49m\u001b[38;5;241;43m+\u001b[39;49m\u001b[43m \u001b[49m\u001b[38;5;241;43m1\u001b[39;49m\u001b[43m,\u001b[49m\n\u001b[0;32m    456\u001b[0m \u001b[43m                       \u001b[49m\u001b[38;5;129;43;01mnot\u001b[39;49;00m\u001b[43m \u001b[49m\u001b[43mnested\u001b[49m\u001b[43m \u001b[49m\u001b[38;5;129;43;01mand\u001b[39;49;00m\u001b[43m \u001b[49m\u001b[38;5;129;43;01mnot\u001b[39;49;00m\u001b[43m \u001b[49m\u001b[43mitems\u001b[49m\u001b[43m)\u001b[49m)\n\u001b[0;32m    457\u001b[0m     \u001b[38;5;28;01mif\u001b[39;00m \u001b[38;5;129;01mnot\u001b[39;00m sourcematch(\u001b[38;5;124m\"\u001b[39m\u001b[38;5;124m|\u001b[39m\u001b[38;5;124m\"\u001b[39m):\n\u001b[0;32m    458\u001b[0m         \u001b[38;5;28;01mbreak\u001b[39;00m\n",
      "File \u001b[1;32m~\\AppData\\Local\\Programs\\Python\\Python311\\Lib\\re\\_parser.py:563\u001b[0m, in \u001b[0;36m_parse\u001b[1;34m(source, state, verbose, nested, first)\u001b[0m\n\u001b[0;32m    561\u001b[0m this \u001b[38;5;241m=\u001b[39m sourceget()\n\u001b[0;32m    562\u001b[0m \u001b[38;5;28;01mif\u001b[39;00m this \u001b[38;5;129;01mis\u001b[39;00m \u001b[38;5;28;01mNone\u001b[39;00m:\n\u001b[1;32m--> 563\u001b[0m     \u001b[38;5;28;01mraise\u001b[39;00m source\u001b[38;5;241m.\u001b[39merror(\u001b[38;5;124m\"\u001b[39m\u001b[38;5;124munterminated character set\u001b[39m\u001b[38;5;124m\"\u001b[39m,\n\u001b[0;32m    564\u001b[0m                        source\u001b[38;5;241m.\u001b[39mtell() \u001b[38;5;241m-\u001b[39m here)\n\u001b[0;32m    565\u001b[0m \u001b[38;5;28;01mif\u001b[39;00m this \u001b[38;5;241m==\u001b[39m \u001b[38;5;124m\"\u001b[39m\u001b[38;5;124m]\u001b[39m\u001b[38;5;124m\"\u001b[39m \u001b[38;5;129;01mand\u001b[39;00m \u001b[38;5;28mset\u001b[39m:\n\u001b[0;32m    566\u001b[0m     \u001b[38;5;28;01mbreak\u001b[39;00m\n",
      "\u001b[1;31merror\u001b[0m: unterminated character set at position 7"
     ]
    }
   ],
   "source": [
    "#Help a user buy a computer as follows:\n",
    "#any machine with at least 6 GHz and 500 GB Hard disk space for less than $1000\n",
    "#We will look out for hard disk space of number followed by GB\n",
    "txt= \"Hard disk size of 225GB at $300\\nHard disk size of 545    GB at $500 is for sale!\\n\"\n",
    "x= re.finditer(\"\\\\b[1-9][] *GB\",txt)\n",
    "for i,m in enumerate(x):\n",
    "    print(i)\n",
    "    result(m)\n"
   ]
  },
  {
   "cell_type": "code",
   "execution_count": 123,
   "id": "417df747",
   "metadata": {},
   "outputs": [
    {
     "name": "stdout",
     "output_type": "stream",
     "text": [
      "0\n",
      "Hard disk size of 225GB at $300\n",
      "Hard disk size of \u001b[95m545    GB\u001b[39m at $500 is for sale!\n",
      "\n"
     ]
    }
   ],
   "source": [
    "#But how do we ensure it is more than 500 GB??\n",
    "txt= \"Hard disk size of 225GB at $300\\nHard disk size of 545    GB at $500 is for sale!\\n\"\n",
    "x= re.finditer(\"\\\\b[5-9][0-9]{2,}\\s*GB\\\\b\",txt)\n",
    "for i,m in enumerate(x):\n",
    "    print(i)\n",
    "    result(m)\n"
   ]
  },
  {
   "cell_type": "markdown",
   "id": "0ed710cc",
   "metadata": {},
   "source": [
    "### Now let's use $ \"re.sub\" $ function to substitute the first string by the second"
   ]
  },
  {
   "cell_type": "code",
   "execution_count": 128,
   "id": "63979da9",
   "metadata": {},
   "outputs": [
    {
     "name": "stdout",
     "output_type": "stream",
     "text": [
      "0\n",
      "Colour \u001b[95mcolor\u001b[39m colour\n",
      "Colour color color\n"
     ]
    }
   ],
   "source": [
    "#replace a pattern\n",
    "\n",
    "\"\"\"The subsitution is happening that the colour is replaced by color\"\"\"\n",
    "\n",
    "txt= \"Colour color colour\"\n",
    "x= re.finditer(\"color\",txt)\n",
    "for i,m in enumerate(x):\n",
    "    print(i)\n",
    "    result(m)\n",
    "print(re.sub(\"colour\",\"color\",txt))"
   ]
  },
  {
   "cell_type": "code",
   "execution_count": 130,
   "id": "278dc907",
   "metadata": {},
   "outputs": [
    {
     "name": "stdout",
     "output_type": "stream",
     "text": [
      "0\n",
      "\u001b[95m123\u001b[39m is before 456\n",
      "456 is before 567\n",
      "1\n",
      "123 is before \u001b[95m456\u001b[39m\n",
      "456 is before 567\n",
      "2\n",
      "123 is before 456\n",
      "\u001b[95m456\u001b[39m is before 567\n",
      "3\n",
      "123 is before 456\n",
      "456 is before \u001b[95m567\u001b[39m\n",
      "<123> is before <456>\n",
      "<456> is before <567>\n"
     ]
    }
   ],
   "source": [
    "txt= \"123 is before 456\\n456 is before 567\"\n",
    "x= re.finditer(\"[0-9]+\",txt)\n",
    "for i,m in enumerate(x):\n",
    "    print(i)\n",
    "    result(m)\n",
    "y= re.sub(\"([0-9]+)\",r\"<\\1>\",txt)\n",
    "print(f'{y}')"
   ]
  },
  {
   "cell_type": "markdown",
   "id": "217f8bad",
   "metadata": {},
   "source": [
    "#### Here we will see something called Capture Group\n",
    "    * Capture Gropu means it will save the string in the () and substitute it later"
   ]
  },
  {
   "cell_type": "code",
   "execution_count": 132,
   "id": "f1e40d78",
   "metadata": {},
   "outputs": [
    {
     "name": "stdout",
     "output_type": "stream",
     "text": [
      "0\n",
      "\u001b[95mThe bigger they were, the bigger they will be\u001b[39m\n",
      "The bigger they were, the larger they will be\n",
      "<bigg>\n",
      "The bigger they were, the larger they will be\n"
     ]
    }
   ],
   "source": [
    "txt= \"The bigger they were, the bigger they will be\\nThe bigger they were, the larger they will be\"\n",
    "x= re.finditer(\"The (.*)er they were, the \\\\1er they will be\",txt)\n",
    "for i,m in enumerate(x):\n",
    "    print(i)\n",
    "    result(m)\n",
    "y= re.sub(\"The (.*)er they were, the \\\\1er they will be\",\"<\\\\1>\",txt)\n",
    "print(f'{y}')"
   ]
  },
  {
   "cell_type": "code",
   "execution_count": 137,
   "id": "957d7e45",
   "metadata": {},
   "outputs": [
    {
     "name": "stdout",
     "output_type": "stream",
     "text": [
      "0\n",
      "\u001b[95mThe faster they ran, the faster we ran The faster they ran, the faster we ran\u001b[39m\n",
      "<fast><ran> <fast><ran>\n"
     ]
    }
   ],
   "source": [
    "txt= \"The faster they ran, the faster we ran The faster they ran, the faster we ran\"\n",
    "x= re.finditer(\"The (.*)er they .* ran, the \\\\1er we ran\",txt)\n",
    "for i,m in enumerate(x):\n",
    "    print(i)\n",
    "    result(m)\n",
    "y= re.sub(\"The (.*)er they (.*), the \\\\1er we \\\\2\",\"<\\\\1><\\\\2>\",txt)\n",
    "print(f'{y}')"
   ]
  },
  {
   "cell_type": "code",
   "execution_count": 139,
   "id": "c37d96c1",
   "metadata": {},
   "outputs": [
    {
     "name": "stdout",
     "output_type": "stream",
     "text": [
      "0\n",
      "\u001b[95mSome cats like some cats\u001b[39m\n",
      "Some people like some people\n",
      "A few cats like some people\n",
      "1\n",
      "Some cats like some cats\n",
      "\u001b[95mSome people like some people\u001b[39m\n",
      "A few cats like some people\n",
      "<cats>\n",
      "<people>\n",
      "A few cats like some people\n"
     ]
    }
   ],
   "source": [
    "txt= \"Some cats like some cats\\nSome people like some people\\nA few cats like some people\"\n",
    "x= re.finditer(\"(?:[sS]ome|[aA] few) (people|cats) like some \\\\1\",txt)\n",
    "for i,m in enumerate(x):\n",
    "    print(i)\n",
    "    result(m)\n",
    "\n",
    "\"\"\"Here ':? in the capture group refers as to not consider that as a capture group ' \"\"\"\n",
    "\n",
    "y= re.sub(\"(?:[sS]ome|[aA] few) (people|cats) like some \\\\1\",\"<\\\\1>\",txt)\n",
    "print(f'{y}')"
   ]
  }
 ],
 "metadata": {
  "kernelspec": {
   "display_name": "Python 3 (ipykernel)",
   "language": "python",
   "name": "python3"
  },
  "language_info": {
   "codemirror_mode": {
    "name": "ipython",
    "version": 3
   },
   "file_extension": ".py",
   "mimetype": "text/x-python",
   "name": "python",
   "nbconvert_exporter": "python",
   "pygments_lexer": "ipython3",
   "version": "3.11.4"
  }
 },
 "nbformat": 4,
 "nbformat_minor": 5
}
